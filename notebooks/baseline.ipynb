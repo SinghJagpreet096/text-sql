{
 "cells": [
  {
   "cell_type": "code",
   "execution_count": 2,
   "metadata": {},
   "outputs": [
    {
     "name": "stdout",
     "output_type": "stream",
     "text": [
      "                                             question\n",
      "0   department_management How many heads of the de...\n",
      "1   department_management List the name, born stat...\n",
      "2   department_management List the creation year, ...\n",
      "3   department_management What are the maximum and...\n",
      "4   department_management What is the average numb...\n",
      "5   department_management What are the names of th...\n",
      "6   department_management What are the distinct cr...\n",
      "7   department_management What are the names of th...\n",
      "8   department_management In which year were most ...\n",
      "9   department_management Show the name and number...\n",
      "10  department_management How many acting statuses...\n",
      "                                                query\n",
      "0          SELECT count(*) FROM head WHERE age  >  56\n",
      "1   SELECT name ,  born_state ,  age FROM head ORD...\n",
      "2   SELECT creation ,  name ,  budget_in_billions ...\n",
      "3   SELECT max(budget_in_billions) ,  min(budget_i...\n",
      "4   SELECT avg(num_employees) FROM department WHER...\n",
      "5   SELECT name FROM head WHERE born_state != 'Cal...\n",
      "6   SELECT DISTINCT T1.creation FROM department AS...\n",
      "7   SELECT born_state FROM head GROUP BY born_stat...\n",
      "8   SELECT creation FROM department GROUP BY creat...\n",
      "9   SELECT T1.name ,  T1.num_employees FROM depart...\n",
      "10  SELECT count(DISTINCT temporary_acting) FROM m...\n"
     ]
    }
   ],
   "source": [
    "import pandas as pd \n",
    "import numpy as np\n",
    "\n",
    "def load_data(file_path):\n",
    "    selected_columns = [\"db_id\",\"question\",\"query\"]\n",
    "    df = pd.read_parquet(file_path,columns=selected_columns)\n",
    "    X_train = df[[\"db_id\",\"question\"]]\n",
    "    y_train = df[[\"query\"]]\n",
    "    return X_train,y_train\n",
    "\n",
    "X_train, y_train = load_data(\"/Users/jagpreetsingh/ML_Projects/text-sql/data/train/0000.parquet\")\n",
    "\n",
    "X_train['question'] = X_train[\"db_id\"] +\" \"+ X_train['question']\n",
    "\n",
    "X_train = X_train.drop('db_id',axis=1)\n",
    "\n",
    "print(X_train.loc[:10])\n",
    "print(y_train.loc[:10])\n",
    "\n"
   ]
  },
  {
   "cell_type": "code",
   "execution_count": null,
   "metadata": {},
   "outputs": [],
   "source": []
  },
  {
   "cell_type": "code",
   "execution_count": 6,
   "metadata": {},
   "outputs": [
    {
     "name": "stdout",
     "output_type": "stream",
     "text": [
      "X_train_padded: [[  48  249   19   21  987    2    1  226    6  403   22 2579    0    0\n",
      "     0    0    0    0    0    0    0    0    0    0    0    0    0    0\n",
      "     0    0    0    0    0    0    0    0    0    0    0    0]\n",
      " [  48  249   24    1    9 1065  174    3   91    2    1  987    2  226\n",
      "    82   27   91    0    0    0    0    0    0    0    0    0    0    0\n",
      "     0    0    0    0    0    0    0    0    0    0    0    0]\n",
      " [  48  249   24    1 1302   73    9    3  330    2   23   48    0    0\n",
      "     0    0    0    0    0    0    0    0    0    0    0    0    0    0\n",
      "     0    0    0    0    0    0    0    0    0    0    0    0]\n",
      " [  48  249    4    6    1   86    3  144  330    2    1  226    0    0\n",
      "     0    0    0    0    0    0    0    0    0    0    0    0    0    0\n",
      "     0    0    0    0    0    0    0    0    0    0    0    0]\n",
      " [  48  249    4   10    1   30   14    2   72    2    1  226   42  152\n",
      "    10  209  237    3  774    0    0    0    0    0    0    0    0    0\n",
      "     0    0    0    0    0    0    0    0    0    0    0    0]\n",
      " [  48  249    4    6    1    8    2    1  987   18    6 1065 1826    1\n",
      "  1066  174    0    0    0    0    0    0    0    0    0    0    0    0\n",
      "     0    0    0    0    0    0    0    0    0    0    0    0]\n",
      " [  48  249    4    6    1   61 1302  238    2    1  226 1067   27   31\n",
      "   841 1065    7  174 2580    0    0    0    0    0    0    0    0    0\n",
      "     0    0    0    0    0    0    0    0    0    0    0    0]\n",
      " [  48  249    4    6    1    8    2    1  272  223   60   65   74  987\n",
      "   145 1065    0    0    0    0    0    0    0    0    0    0    0    0\n",
      "     0    0    0    0    0    0    0    0    0    0    0    0]\n",
      " [  48  249    7   26   73  145   28  226 2581    0    0    0    0    0\n",
      "     0    0    0    0    0    0    0    0    0    0    0    0    0    0\n",
      "     0    0    0    0    0    0    0    0    0    0    0    0]\n",
      " [  48  249   20    1    9    3   14    2   72   15    1  226 1067   27\n",
      "   987   42 2582 1655  379   10 1827    0    0    0    0    0    0    0\n",
      "     0    0    0    0    0    0    0    0    0    0    0    0]]\n",
      "y_train_padded: [[   4   12    3  480    7   41 2200    0    0    0    0    0    0    0\n",
      "     0    0    0    0    0    0    0    0    0    0    0    0    0    0\n",
      "     0    0    0    0    0    0    0    0    0    0    0    0]\n",
      " [   4    8  948   85   41    3  480   14   11   41    0    0    0    0\n",
      "     0    0    0    0    0    0    0    0    0    0    0    0    0    0\n",
      "     0    0    0    0    0    0    0    0    0    0    0    0]\n",
      " [   4 1145    8  151   30 1406    3   40    0    0    0    0    0    0\n",
      "     0    0    0    0    0    0    0    0    0    0    0    0    0    0\n",
      "     0    0    0    0    0    0    0    0    0    0    0    0]\n",
      " [   4   46  151   30 1406   76  151   30 1406    3   40    0    0    0\n",
      "     0    0    0    0    0    0    0    0    0    0    0    0    0    0\n",
      "     0    0    0    0    0    0    0    0    0    0    0    0]\n",
      " [   4   27   78   70    3   40    7 1146  166  179   23  643    0    0\n",
      "     0    0    0    0    0    0    0    0    0    0    0    0    0    0\n",
      "     0    0    0    0    0    0    0    0    0    0    0    0]\n",
      " [   4    8    3  480    7  948   85 1124    0    0    0    0    0    0\n",
      "     0    0    0    0    0    0    0    0    0    0    0    0    0    0\n",
      "     0    0    0    0    0    0    0    0    0    0    0    0]\n",
      " [   4   22    1 1145    3   40    5    1    9  853    5    2   10    1\n",
      "    40    6    2   40    6    9  480    5   13   10    2  480    6   13\n",
      "   480    6    7   13  948   85 2201    0    0    0    0    0]\n",
      " [   4  948   85    3  480   15   11  948   85   31   12   91    0    0\n",
      "     0    0    0    0    0    0    0    0    0    0    0    0    0    0\n",
      "     0    0    0    0    0    0    0    0    0    0    0    0]\n",
      " [   4 1145    3   40   15   11 1145   14   11   12   20   19   18    0\n",
      "     0    0    0    0    0    0    0    0    0    0    0    0    0    0\n",
      "     0    0    0    0    0    0    0    0    0    0    0    0]\n",
      " [   4    1    8    1   78   70    3   40    5    1    9  853    5    2\n",
      "    10    1   40    6    2   40    6    7    2 1407 1408  481    0    0\n",
      "     0    0    0    0    0    0    0    0    0    0    0    0]]\n",
      "vocab_size_input: 3261\n",
      "vocab_size_output: 2405\n"
     ]
    }
   ],
   "source": [
    "from tensorflow.keras.preprocessing.text import Tokenizer\n",
    "from tensorflow.keras.preprocessing.sequence import pad_sequences\n",
    "\n",
    "# Tokenize input sequences (questions)\n",
    "tokenizer_input = Tokenizer()\n",
    "tokenizer_input.fit_on_texts(X_train['question'])\n",
    "X_train_sequences = tokenizer_input.texts_to_sequences(X_train['question'])\n",
    "X_train_padded = pad_sequences(X_train_sequences, padding='post')\n",
    "\n",
    "print(f\"X_train_padded: {X_train_padded[:10]}\")\n",
    "\n",
    "# Tokenize target sequences (SQL queries)\n",
    "tokenizer_output = Tokenizer()\n",
    "tokenizer_output.fit_on_texts(y_train['query'])\n",
    "y_train_sequences = tokenizer_output.texts_to_sequences(y_train['query'])\n",
    "y_train_padded = pad_sequences(y_train_sequences, padding='post',maxlen = X_train_padded.shape[1])\n",
    "\n",
    "print(f\"y_train_padded: {y_train_padded[:10]}\")\n",
    "\n",
    "# Vocabulary sizes\n",
    "vocab_size_input = len(tokenizer_input.word_index) + 1\n",
    "vocab_size_output = len(tokenizer_output.word_index) + 1\n",
    "\n",
    "print(f\"vocab_size_input: {vocab_size_input}\")\n",
    "print(f\"vocab_size_output: {vocab_size_output}\")\n",
    "\n",
    "\n",
    "\n"
   ]
  },
  {
   "cell_type": "code",
   "execution_count": null,
   "metadata": {},
   "outputs": [],
   "source": []
  },
  {
   "cell_type": "code",
   "execution_count": 7,
   "metadata": {},
   "outputs": [],
   "source": [
    "from tensorflow.keras.models import Sequential\n",
    "from tensorflow.keras.layers import Embedding, LSTM, Dense\n",
    "\n",
    "embedding_dim = 128\n",
    "units = 256\n",
    "\n",
    "model = Sequential([\n",
    "    Embedding(input_dim=vocab_size_input, output_dim=embedding_dim, input_length=X_train_padded.shape[1]),\n",
    "    LSTM(units, return_sequences=True),\n",
    "    Dense(units=vocab_size_output, activation='softmax')\n",
    "])\n",
    "\n",
    "model.compile(optimizer='adam', loss='sparse_categorical_crossentropy', metrics=['accuracy'])\n"
   ]
  },
  {
   "cell_type": "code",
   "execution_count": 9,
   "metadata": {},
   "outputs": [
    {
     "name": "stdout",
     "output_type": "stream",
     "text": [
      "Epoch 1/5\n",
      "175/175 [==============================] - 13s 71ms/step - loss: 3.3139 - accuracy: 0.5374 - val_loss: 2.9778 - val_accuracy: 0.5905\n",
      "Epoch 2/5\n",
      "175/175 [==============================] - 12s 71ms/step - loss: 2.5908 - accuracy: 0.5775 - val_loss: 2.8674 - val_accuracy: 0.5869\n",
      "Epoch 3/5\n",
      "175/175 [==============================] - 13s 74ms/step - loss: 2.4506 - accuracy: 0.5837 - val_loss: 2.8410 - val_accuracy: 0.5881\n",
      "Epoch 4/5\n",
      "175/175 [==============================] - 13s 73ms/step - loss: 2.3700 - accuracy: 0.5875 - val_loss: 2.8530 - val_accuracy: 0.5887\n",
      "Epoch 5/5\n",
      "175/175 [==============================] - 13s 74ms/step - loss: 2.3111 - accuracy: 0.5910 - val_loss: 2.8770 - val_accuracy: 0.5814\n"
     ]
    }
   ],
   "source": [
    "history = model.fit(X_train_padded, y_train_padded, epochs=5, batch_size=32, validation_split=0.2)\n"
   ]
  },
  {
   "cell_type": "code",
   "execution_count": 10,
   "metadata": {},
   "outputs": [],
   "source": [
    "import matplotlib.pyplot as plt"
   ]
  },
  {
   "cell_type": "code",
   "execution_count": 11,
   "metadata": {},
   "outputs": [
    {
     "data": {
      "text/plain": [
       "[<matplotlib.lines.Line2D at 0x299496800>]"
      ]
     },
     "execution_count": 11,
     "metadata": {},
     "output_type": "execute_result"
    },
    {
     "data": {
      "image/png": "[encoded data removed]",
      "text/plain": [
       "<Figure size 640x480 with 1 Axes>"
      ]
     },
     "metadata": {},
     "output_type": "display_data"
    }
   ],
   "source": [
    "plt.plot(history.history['accuracy'],'r')\n",
    "plt.plot(history.history['val_accuracy'],'g')"
   ]
  },
  {
   "cell_type": "code",
   "execution_count": 40,
   "metadata": {},
   "outputs": [
    {
     "data": {
      "text/plain": [
       "[<matplotlib.lines.Line2D at 0x179ded4b0>]"
      ]
     },
     "execution_count": 40,
     "metadata": {},
     "output_type": "execute_result"
    },
    {
     "data": {
      "image/png": "[encoded data removed]",
      "text/plain": [
       "<Figure size 640x480 with 1 Axes>"
      ]
     },
     "metadata": {},
     "output_type": "display_data"
    }
   ],
   "source": [
    "plt.plot(history.history['loss'],'r-o')\n",
    "plt.plot(history.history['val_loss'],'g')"
   ]
  },
  {
   "cell_type": "code",
   "execution_count": 14,
   "metadata": {},
   "outputs": [
    {
     "name": "stdout",
     "output_type": "stream",
     "text": [
      "1/1 [==============================] - 0s 18ms/step\n",
      "[[1.99953956e-03 4.84866882e-03 3.67997540e-03 ... 1.53107714e-04\n",
      "  1.70387430e-04 1.78267321e-04]\n",
      " [3.99421668e-03 4.20591654e-03 3.41136963e-03 ... 1.09713117e-04\n",
      "  1.09974695e-04 1.14675953e-04]\n",
      " [4.26058248e-02 1.26164397e-02 7.58398883e-03 ... 2.17981560e-05\n",
      "  2.28793633e-05 2.64657465e-05]\n",
      " ...\n",
      " [9.87592280e-01 5.18529559e-04 5.33211569e-04 ... 1.50126278e-09\n",
      "  1.84327353e-09 2.42343190e-09]\n",
      " [9.87607419e-01 5.17795037e-04 5.32430364e-04 ... 1.49805357e-09\n",
      "  1.83942084e-09 2.41895726e-09]\n",
      " [9.87620175e-01 5.17151318e-04 5.31745842e-04 ... 1.49521828e-09\n",
      "  1.83602356e-09 2.41500064e-09]]\n",
      "Predicted SQL Query: select from\n"
     ]
    }
   ],
   "source": [
    "def generate_sql_sequence(question):\n",
    "    question_sequence = tokenizer_input.texts_to_sequences([question])\n",
    "    question_padded = pad_sequences(question_sequence, padding='post', maxlen=X_train_padded.shape[1])\n",
    "    predicted_sequence = model.predict(question_padded)[0]\n",
    "    print(predicted_sequence)\n",
    "    predicted_sql_query = [tokenizer_output.index_word[idx] for idx in np.argmax(predicted_sequence, axis=-1) if idx != 0]\n",
    "    return \" \".join(predicted_sql_query)\n",
    "\n",
    "# Example usage:\n",
    "new_question = \"How many heads of the departments are older than 56 ?\"\n",
    "predicted_sql_query = generate_sql_sequence(new_question)\n",
    "print(\"Predicted SQL Query:\", predicted_sql_query)\n"
   ]
  },
  {
   "cell_type": "code",
   "execution_count": 17,
   "metadata": {},
   "outputs": [
    {
     "name": "stdout",
     "output_type": "stream",
     "text": [
      "question: department_management How many acting statuses are there?\n",
      "1/1 [==============================] - 0s 20ms/step\n",
      "actual query: SELECT count(DISTINCT temporary_acting) FROM management\n",
      "predicted_sql_query: select count from from from from\n",
      "question: department_management How many departments are led by heads who are not mentioned?\n",
      "1/1 [==============================] - 0s 13ms/step\n",
      "actual query: SELECT count(*) FROM department WHERE department_id NOT IN (SELECT department_id FROM management);\n",
      "predicted_sql_query: select count from from from from as\n",
      "question: department_management What are the distinct ages of the heads who are acting?\n",
      "1/1 [==============================] - 0s 13ms/step\n",
      "actual query: SELECT DISTINCT T1.age FROM management AS T2 JOIN head AS T1 ON T1.head_id  =  T2.head_id WHERE T2.temporary_acting  =  'Yes'\n",
      "predicted_sql_query: select count from from from from from\n",
      "question: department_management List the states where both the secretary of 'Treasury' department and the secretary of 'Homeland Security' were born.\n",
      "1/1 [==============================] - 0s 13ms/step\n",
      "actual query: SELECT T3.born_state FROM department AS T1 JOIN management AS T2 ON T1.department_id  =  T2.department_id JOIN head AS T3 ON T2.head_id  =  T3.head_id WHERE T1.name  =  'Treasury' INTERSECT SELECT T3.born_state FROM department AS T1 JOIN management AS T2 ON T1.department_id  =  T2.department_id JOIN head AS T3 ON T2.head_id  =  T3.head_id WHERE T1.name  =  'Homeland Security'\n",
      "predicted_sql_query: select count from from from from t1 as as as as t1 t1 as t2 t2 t2 t2 t2 t2 t2 t2 t2 t2 id id\n",
      "question: department_management Which department has more than 1 head at a time? List the id, name and the number of heads.\n",
      "1/1 [==============================] - 0s 14ms/step\n",
      "actual query: SELECT T1.department_id ,  T1.name ,  count(*) FROM management AS T2 JOIN department AS T1 ON T1.department_id  =  T2.department_id GROUP BY T1.department_id HAVING count(*)  >  1\n",
      "predicted_sql_query: select count from from from from from from as\n",
      "question: department_management Which head's name has the substring 'Ha'? List the id and name.\n",
      "1/1 [==============================] - 0s 13ms/step\n",
      "actual query: SELECT head_id ,  name FROM head WHERE name LIKE '%Ha%'\n",
      "predicted_sql_query: select count from from from from from\n"
     ]
    }
   ],
   "source": [
    "for i in range(10,16):\n",
    "\n",
    "    question = list(X_train.iloc[i,:])[0]\n",
    "    print(f\"question: {question}\")\n",
    "    predicted_sql_query = generate_sql_sequence(question)\n",
    "    actual_query = list(y_train.iloc[i,:])[0]\n",
    "    \n",
    "    print(f\"actual query: {actual_query}\")\n",
    "    print(f\"predicted_sql_query: {predicted_sql_query}\")"
   ]
  },
  {
   "cell_type": "code",
   "execution_count": 18,
   "metadata": {},
   "outputs": [],
   "source": [
    "from tensorflow.keras.models import load_model\n",
    "\n",
    "\n",
    "model = load_model('artifacts/baseline.h5')\n"
   ]
  },
  {
   "cell_type": "code",
   "execution_count": 3,
   "metadata": {},
   "outputs": [
    {
     "ename": "KeyboardInterrupt",
     "evalue": "",
     "output_type": "error",
     "traceback": [
      "\u001b[0;31m---------------------------------------------------------------------------\u001b[0m",
      "\u001b[0;31mKeyboardInterrupt\u001b[0m                         Traceback (most recent call last)",
      "Cell \u001b[0;32mIn[3], line 4\u001b[0m\n\u001b[1;32m      1\u001b[0m \u001b[38;5;28;01mfrom\u001b[39;00m \u001b[38;5;21;01mgensim\u001b[39;00m\u001b[38;5;21;01m.\u001b[39;00m\u001b[38;5;21;01mmodels\u001b[39;00m \u001b[38;5;28;01mimport\u001b[39;00m KeyedVectors\n\u001b[1;32m      3\u001b[0m \u001b[38;5;66;03m# Load pre-trained GloVe embeddings\u001b[39;00m\n\u001b[0;32m----> 4\u001b[0m glove_model \u001b[38;5;241m=\u001b[39m \u001b[43mKeyedVectors\u001b[49m\u001b[38;5;241;43m.\u001b[39;49m\u001b[43mload_word2vec_format\u001b[49m\u001b[43m(\u001b[49m\u001b[43mfname\u001b[49m\u001b[38;5;241;43m=\u001b[39;49m\u001b[38;5;28;43;01mFalse\u001b[39;49;00m\u001b[43m)\u001b[49m\n\u001b[1;32m      6\u001b[0m \u001b[38;5;66;03m# Check if special characters have embeddings\u001b[39;00m\n\u001b[1;32m      7\u001b[0m special_characters \u001b[38;5;241m=\u001b[39m [\u001b[38;5;124m'\u001b[39m\u001b[38;5;124m*\u001b[39m\u001b[38;5;124m'\u001b[39m, \u001b[38;5;124m'\u001b[39m\u001b[38;5;124m(\u001b[39m\u001b[38;5;124m'\u001b[39m, \u001b[38;5;124m'\u001b[39m\u001b[38;5;124m)\u001b[39m\u001b[38;5;124m'\u001b[39m, \u001b[38;5;124m'\u001b[39m\u001b[38;5;124m$\u001b[39m\u001b[38;5;124m'\u001b[39m, \u001b[38;5;124m'\u001b[39m\u001b[38;5;124m#\u001b[39m\u001b[38;5;124m'\u001b[39m, \u001b[38;5;124m'\u001b[39m\u001b[38;5;124m@\u001b[39m\u001b[38;5;124m'\u001b[39m]\n",
      "File \u001b[0;32m~/ML_Projects/text-sql/venv/lib/python3.10/site-packages/gensim/models/keyedvectors.py:1719\u001b[0m, in \u001b[0;36mKeyedVectors.load_word2vec_format\u001b[0;34m(cls, fname, fvocab, binary, encoding, unicode_errors, limit, datatype, no_header)\u001b[0m\n\u001b[1;32m   1672\u001b[0m \u001b[38;5;129m@classmethod\u001b[39m\n\u001b[1;32m   1673\u001b[0m \u001b[38;5;28;01mdef\u001b[39;00m \u001b[38;5;21mload_word2vec_format\u001b[39m(\n\u001b[1;32m   1674\u001b[0m         \u001b[38;5;28mcls\u001b[39m, fname, fvocab\u001b[38;5;241m=\u001b[39m\u001b[38;5;28;01mNone\u001b[39;00m, binary\u001b[38;5;241m=\u001b[39m\u001b[38;5;28;01mFalse\u001b[39;00m, encoding\u001b[38;5;241m=\u001b[39m\u001b[38;5;124m'\u001b[39m\u001b[38;5;124mutf8\u001b[39m\u001b[38;5;124m'\u001b[39m, unicode_errors\u001b[38;5;241m=\u001b[39m\u001b[38;5;124m'\u001b[39m\u001b[38;5;124mstrict\u001b[39m\u001b[38;5;124m'\u001b[39m,\n\u001b[1;32m   1675\u001b[0m         limit\u001b[38;5;241m=\u001b[39m\u001b[38;5;28;01mNone\u001b[39;00m, datatype\u001b[38;5;241m=\u001b[39mREAL, no_header\u001b[38;5;241m=\u001b[39m\u001b[38;5;28;01mFalse\u001b[39;00m,\n\u001b[1;32m   1676\u001b[0m     ):\n\u001b[1;32m   1677\u001b[0m \u001b[38;5;250m    \u001b[39m\u001b[38;5;124;03m\"\"\"Load KeyedVectors from a file produced by the original C word2vec-tool format.\u001b[39;00m\n\u001b[1;32m   1678\u001b[0m \n\u001b[1;32m   1679\u001b[0m \u001b[38;5;124;03m    Warnings\u001b[39;00m\n\u001b[0;32m   (...)\u001b[0m\n\u001b[1;32m   1717\u001b[0m \n\u001b[1;32m   1718\u001b[0m \u001b[38;5;124;03m    \"\"\"\u001b[39;00m\n\u001b[0;32m-> 1719\u001b[0m     \u001b[38;5;28;01mreturn\u001b[39;00m \u001b[43m_load_word2vec_format\u001b[49m\u001b[43m(\u001b[49m\n\u001b[1;32m   1720\u001b[0m \u001b[43m        \u001b[49m\u001b[38;5;28;43mcls\u001b[39;49m\u001b[43m,\u001b[49m\u001b[43m \u001b[49m\u001b[43mfname\u001b[49m\u001b[43m,\u001b[49m\u001b[43m \u001b[49m\u001b[43mfvocab\u001b[49m\u001b[38;5;241;43m=\u001b[39;49m\u001b[43mfvocab\u001b[49m\u001b[43m,\u001b[49m\u001b[43m \u001b[49m\u001b[43mbinary\u001b[49m\u001b[38;5;241;43m=\u001b[39;49m\u001b[43mbinary\u001b[49m\u001b[43m,\u001b[49m\u001b[43m \u001b[49m\u001b[43mencoding\u001b[49m\u001b[38;5;241;43m=\u001b[39;49m\u001b[43mencoding\u001b[49m\u001b[43m,\u001b[49m\u001b[43m \u001b[49m\u001b[43municode_errors\u001b[49m\u001b[38;5;241;43m=\u001b[39;49m\u001b[43municode_errors\u001b[49m\u001b[43m,\u001b[49m\n\u001b[1;32m   1721\u001b[0m \u001b[43m        \u001b[49m\u001b[43mlimit\u001b[49m\u001b[38;5;241;43m=\u001b[39;49m\u001b[43mlimit\u001b[49m\u001b[43m,\u001b[49m\u001b[43m \u001b[49m\u001b[43mdatatype\u001b[49m\u001b[38;5;241;43m=\u001b[39;49m\u001b[43mdatatype\u001b[49m\u001b[43m,\u001b[49m\u001b[43m \u001b[49m\u001b[43mno_header\u001b[49m\u001b[38;5;241;43m=\u001b[39;49m\u001b[43mno_header\u001b[49m\u001b[43m,\u001b[49m\n\u001b[1;32m   1722\u001b[0m \u001b[43m    \u001b[49m\u001b[43m)\u001b[49m\n",
      "File \u001b[0;32m~/ML_Projects/text-sql/venv/lib/python3.10/site-packages/gensim/models/keyedvectors.py:2058\u001b[0m, in \u001b[0;36m_load_word2vec_format\u001b[0;34m(cls, fname, fvocab, binary, encoding, unicode_errors, limit, datatype, no_header, binary_chunk_size)\u001b[0m\n\u001b[1;32m   2056\u001b[0m     fin \u001b[38;5;241m=\u001b[39m utils\u001b[38;5;241m.\u001b[39mopen(fname, \u001b[38;5;124m'\u001b[39m\u001b[38;5;124mrb\u001b[39m\u001b[38;5;124m'\u001b[39m)\n\u001b[1;32m   2057\u001b[0m \u001b[38;5;28;01melse\u001b[39;00m:\n\u001b[0;32m-> 2058\u001b[0m     header \u001b[38;5;241m=\u001b[39m utils\u001b[38;5;241m.\u001b[39mto_unicode(\u001b[43mfin\u001b[49m\u001b[38;5;241;43m.\u001b[39;49m\u001b[43mreadline\u001b[49m\u001b[43m(\u001b[49m\u001b[43m)\u001b[49m, encoding\u001b[38;5;241m=\u001b[39mencoding)\n\u001b[1;32m   2059\u001b[0m     vocab_size, vector_size \u001b[38;5;241m=\u001b[39m [\u001b[38;5;28mint\u001b[39m(x) \u001b[38;5;28;01mfor\u001b[39;00m x \u001b[38;5;129;01min\u001b[39;00m header\u001b[38;5;241m.\u001b[39msplit()]  \u001b[38;5;66;03m# throws for invalid file format\u001b[39;00m\n\u001b[1;32m   2060\u001b[0m \u001b[38;5;28;01mif\u001b[39;00m limit:\n",
      "\u001b[0;31mKeyboardInterrupt\u001b[0m: "
     ]
    }
   ],
   "source": [
    "from gensim.models import KeyedVectors\n",
    "\n",
    "# Load pre-trained GloVe embeddings\n",
    "glove_model = KeyedVectors.\n",
    "\n",
    "# Check if special characters have embeddings\n",
    "special_characters = ['*', '(', ')', '$', '#', '@']\n",
    "for char in special_characters:\n",
    "    if char in glove_model:\n",
    "        print(f\"Embedding for '{char}': {glove_model[char]}\")\n",
    "    else:\n",
    "        print(f\"No embedding found for '{char}'\")\n"
   ]
  },
  {
   "cell_type": "code",
   "execution_count": null,
   "metadata": {},
   "outputs": [],
   "source": []
  },
  {
   "cell_type": "code",
   "execution_count": null,
   "metadata": {},
   "outputs": [],
   "source": []
  },
  {
   "cell_type": "code",
   "execution_count": null,
   "metadata": {},
   "outputs": [],
   "source": []
  }
 ],
 "metadata": {
  "kernelspec": {
   "display_name": "venv",
   "language": "python",
   "name": "python3"
  },
  "language_info": {
   "codemirror_mode": {
    "name": "ipython",
    "version": 3
   },
   "file_extension": ".py",
   "mimetype": "text/x-python",
   "name": "python",
   "nbconvert_exporter": "python",
   "pygments_lexer": "ipython3",
   "version": "3.10.9"
  }
 },
 "nbformat": 4,
 "nbformat_minor": 2
}
