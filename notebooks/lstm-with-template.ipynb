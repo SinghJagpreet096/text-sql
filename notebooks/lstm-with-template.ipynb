{
 "cells": [
  {
   "cell_type": "code",
   "execution_count": 3,
   "metadata": {},
   "outputs": [
    {
     "name": "stdout",
     "output_type": "stream",
     "text": [
      "Generated SQL query: SELECT EmployeeDetails FROM table WHERE What is the average salary of employees?\n"
     ]
    }
   ],
   "source": [
    "import tiktoken\n",
    "\n",
    "\n",
    "enc = tiktoken.get_encoding('gpt2')\n",
    "\n",
    "# Define SQL query templates\n",
    "templates = {\n",
    "    'select': 'SELECT {columns} FROM {table} WHERE {conditions}',\n",
    "    'insert': 'INSERT INTO {table} ({columns}) VALUES ({values})',\n",
    "    # Define other templates as needed\n",
    "}\n",
    "\n",
    "# Tokenize input text and map to template placeholders\n",
    "def tokenize_input(question, context):\n",
    "    # Tokenize input text using appropriate tokenizers\n",
    "    tokenized_question = enc.encode(question)\n",
    "    tokenized_context = enc.encode(context)\n",
    "    # Map tokens to template placeholders (e.g., table names, column names, conditions)\n",
    "    placeholders = {\n",
    "        'columns': enc.decode(tokenized_context),\n",
    "        'table':'table',\n",
    "        'conditions':enc.decode(tokenized_question)\n",
    "    }\n",
    "    return placeholders\n",
    "\n",
    "# Generate SQL query using template and placeholders\n",
    "def generate_sql(template, placeholders):\n",
    "    sql_query = templates[template].format(**placeholders)\n",
    "    return sql_query\n",
    "\n",
    "# Example usage\n",
    "question = \"What is the average salary of employees?\"\n",
    "context = \"EmployeeDetails\"\n",
    "template = \"select\"\n",
    "placeholders = tokenize_input(question, context)\n",
    "sql_query = generate_sql(template, placeholders)\n",
    "print(\"Generated SQL query:\", sql_query)\n",
    "\n",
    "\n"
   ]
  }
 ],
 "metadata": {
  "kernelspec": {
   "display_name": "venv",
   "language": "python",
   "name": "python3"
  },
  "language_info": {
   "codemirror_mode": {
    "name": "ipython",
    "version": 3
   },
   "file_extension": ".py",
   "mimetype": "text/x-python",
   "name": "python",
   "nbconvert_exporter": "python",
   "pygments_lexer": "ipython3",
   "version": "3.10.9"
  }
 },
 "nbformat": 4,
 "nbformat_minor": 2
}
