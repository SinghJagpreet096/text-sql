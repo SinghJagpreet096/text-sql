{
 "cells": [
  {
   "cell_type": "markdown",
   "metadata": {},
   "source": []
  },
  {
   "cell_type": "code",
   "execution_count": 63,
   "metadata": {},
   "outputs": [
    {
     "name": "stderr",
     "output_type": "stream",
     "text": [
      "/var/folders/93/mr9vk9s104n71qvsfvrkf4800000gn/T/ipykernel_48669/2776928143.py:12: SettingWithCopyWarning: \n",
      "A value is trying to be set on a copy of a slice from a DataFrame.\n",
      "Try using .loc[row_indexer,col_indexer] = value instead\n",
      "\n",
      "See the caveats in the documentation: https://pandas.pydata.org/pandas-docs/stable/user_guide/indexing.html#returning-a-view-versus-a-copy\n",
      "  X_train['question'] = X_train[\"db_id\"] +\" \"+ X_train['question']\n"
     ]
    }
   ],
   "source": [
    "import pandas as pd \n",
    "import logging\n",
    "\n",
    "\n",
    "def load_data(file_path:str, selected_columns:list):\n",
    "    logging.info(\"loading data\")\n",
    "    df = pd.read_parquet(file_path)\n",
    "    X_train = df[[\"db_id\",\"question\"]]\n",
    "    y_train = df[[\"query\"]]\n",
    "    logging.info(f\"shape of X_train: {X_train.shape}\")\n",
    "    logging.info(f\"shape of y_train: {y_train.shape}\")\n",
    "    X_train['question'] = X_train[\"db_id\"] +\" \"+ X_train['question']\n",
    "    X_train = X_train.drop('db_id',axis=1)\n",
    "    \n",
    "    return X_train,y_train\n",
    "\n",
    "\n",
    "X_train, y_train = load_data(\"~/ML_Projects/text-sql/data/train/0000.parquet\",selected_columns=[\"db_id\",\"question\",\"query\"])"
   ]
  },
  {
   "cell_type": "code",
   "execution_count": 65,
   "metadata": {},
   "outputs": [
    {
     "data": {
      "text/plain": [
       "(                                            question\n",
       " 0  department_management How many heads of the de...\n",
       " 1  department_management List the name, born stat...\n",
       " 2  department_management List the creation year, ...\n",
       " 3  department_management What are the maximum and...\n",
       " 4  department_management What is the average numb...,\n",
       "                                                query\n",
       " 0         SELECT count(*) FROM head WHERE age  >  56\n",
       " 1  SELECT name ,  born_state ,  age FROM head ORD...\n",
       " 2  SELECT creation ,  name ,  budget_in_billions ...\n",
       " 3  SELECT max(budget_in_billions) ,  min(budget_i...\n",
       " 4  SELECT avg(num_employees) FROM department WHER...)"
      ]
     },
     "execution_count": 65,
     "metadata": {},
     "output_type": "execute_result"
    }
   ],
   "source": [
    "X_train.head(), y_train.head()"
   ]
  },
  {
   "cell_type": "code",
   "execution_count": 68,
   "metadata": {},
   "outputs": [],
   "source": [
    "from tensorflow.keras.layers import Embedding\n",
    "from tensorflow.keras.preprocessing.sequence import pad_sequences\n",
    "from tensorflow.keras.models import Sequential\n",
    "from tensorflow.keras.preprocessing.text import one_hot\n",
    "from tensorflow.keras.layers import LSTM\n",
    "from tensorflow.keras.layers import Dense\n",
    "import gensim.downloader as api"
   ]
  },
  {
   "cell_type": "code",
   "execution_count": 70,
   "metadata": {},
   "outputs": [],
   "source": [
    "emderrer = api.load('glove-twitter-25')"
   ]
  },
  {
   "cell_type": "code",
   "execution_count": null,
   "metadata": {},
   "outputs": [],
   "source": []
  }
 ],
 "metadata": {
  "kernelspec": {
   "display_name": "venv",
   "language": "python",
   "name": "python3"
  },
  "language_info": {
   "codemirror_mode": {
    "name": "ipython",
    "version": 3
   },
   "file_extension": ".py",
   "mimetype": "text/x-python",
   "name": "python",
   "nbconvert_exporter": "python",
   "pygments_lexer": "ipython3",
   "version": "3.10.9"
  }
 },
 "nbformat": 4,
 "nbformat_minor": 2
}
