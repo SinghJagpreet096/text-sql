{
 "cells": [
  {
   "cell_type": "code",
   "execution_count": 12,
   "metadata": {},
   "outputs": [
    {
     "name": "stdout",
     "output_type": "stream",
     "text": [
      "                                             question\n",
      "0   department_management How many heads of the de...\n",
      "1   department_management List the name, born stat...\n",
      "2   department_management List the creation year, ...\n",
      "3   department_management What are the maximum and...\n",
      "4   department_management What is the average numb...\n",
      "5   department_management What are the names of th...\n",
      "6   department_management What are the distinct cr...\n",
      "7   department_management What are the names of th...\n",
      "8   department_management In which year were most ...\n",
      "9   department_management Show the name and number...\n",
      "10  department_management How many acting statuses...\n",
      "                                                query\n",
      "0          SELECT count(*) FROM head WHERE age  >  56\n",
      "1   SELECT name ,  born_state ,  age FROM head ORD...\n",
      "2   SELECT creation ,  name ,  budget_in_billions ...\n",
      "3   SELECT max(budget_in_billions) ,  min(budget_i...\n",
      "4   SELECT avg(num_employees) FROM department WHER...\n",
      "5   SELECT name FROM head WHERE born_state != 'Cal...\n",
      "6   SELECT DISTINCT T1.creation FROM department AS...\n",
      "7   SELECT born_state FROM head GROUP BY born_stat...\n",
      "8   SELECT creation FROM department GROUP BY creat...\n",
      "9   SELECT T1.name ,  T1.num_employees FROM depart...\n",
      "10  SELECT count(DISTINCT temporary_acting) FROM m...\n"
     ]
    }
   ],
   "source": [
    "import pandas as pd \n",
    "import numpy as np\n",
    "\n",
    "def load_data(file_path):\n",
    "    selected_columns = [\"db_id\",\"question\",\"query\"]\n",
    "    df = pd.read_parquet(file_path,columns=selected_columns)\n",
    "    X_train = df[[\"db_id\",\"question\"]]\n",
    "    y_train = df[[\"query\"]]\n",
    "    return X_train,y_train\n",
    "\n",
    "X_train, y_train = load_data(\"data/train/0000.parquet\")\n",
    "\n",
    "X_train['question'] = X_train[\"db_id\"] +\" \"+ X_train['question']\n",
    "\n",
    "X_train = X_train.drop('db_id',axis=1)\n",
    "\n",
    "print(X_train.loc[:10])\n",
    "print(y_train.loc[:10])\n",
    "\n"
   ]
  },
  {
   "cell_type": "code",
   "execution_count": null,
   "metadata": {},
   "outputs": [],
   "source": []
  },
  {
   "cell_type": "code",
   "execution_count": 13,
   "metadata": {},
   "outputs": [
    {
     "name": "stdout",
     "output_type": "stream",
     "text": [
      "X_train_padded: [[  48  249   19   21  987    2    1  226    6  403   22 2579    0    0\n",
      "     0    0    0    0    0    0    0    0    0    0    0    0    0    0\n",
      "     0    0    0    0    0    0    0    0    0    0    0    0]\n",
      " [  48  249   24    1    9 1065  174    3   91    2    1  987    2  226\n",
      "    82   27   91    0    0    0    0    0    0    0    0    0    0    0\n",
      "     0    0    0    0    0    0    0    0    0    0    0    0]\n",
      " [  48  249   24    1 1302   73    9    3  330    2   23   48    0    0\n",
      "     0    0    0    0    0    0    0    0    0    0    0    0    0    0\n",
      "     0    0    0    0    0    0    0    0    0    0    0    0]\n",
      " [  48  249    4    6    1   86    3  144  330    2    1  226    0    0\n",
      "     0    0    0    0    0    0    0    0    0    0    0    0    0    0\n",
      "     0    0    0    0    0    0    0    0    0    0    0    0]\n",
      " [  48  249    4   10    1   30   14    2   72    2    1  226   42  152\n",
      "    10  209  237    3  774    0    0    0    0    0    0    0    0    0\n",
      "     0    0    0    0    0    0    0    0    0    0    0    0]\n",
      " [  48  249    4    6    1    8    2    1  987   18    6 1065 1826    1\n",
      "  1066  174    0    0    0    0    0    0    0    0    0    0    0    0\n",
      "     0    0    0    0    0    0    0    0    0    0    0    0]\n",
      " [  48  249    4    6    1   61 1302  238    2    1  226 1067   27   31\n",
      "   841 1065    7  174 2580    0    0    0    0    0    0    0    0    0\n",
      "     0    0    0    0    0    0    0    0    0    0    0    0]\n",
      " [  48  249    4    6    1    8    2    1  272  223   60   65   74  987\n",
      "   145 1065    0    0    0    0    0    0    0    0    0    0    0    0\n",
      "     0    0    0    0    0    0    0    0    0    0    0    0]\n",
      " [  48  249    7   26   73  145   28  226 2581    0    0    0    0    0\n",
      "     0    0    0    0    0    0    0    0    0    0    0    0    0    0\n",
      "     0    0    0    0    0    0    0    0    0    0    0    0]\n",
      " [  48  249   20    1    9    3   14    2   72   15    1  226 1067   27\n",
      "   987   42 2582 1655  379   10 1827    0    0    0    0    0    0    0\n",
      "     0    0    0    0    0    0    0    0    0    0    0    0]]\n",
      "y_train_padded: [[   4   12    3  480    7   41 2200    0    0    0    0    0    0    0\n",
      "     0    0    0    0    0    0    0    0    0    0    0    0    0    0\n",
      "     0    0    0    0    0    0    0    0    0    0    0    0]\n",
      " [   4    8  948   85   41    3  480   14   11   41    0    0    0    0\n",
      "     0    0    0    0    0    0    0    0    0    0    0    0    0    0\n",
      "     0    0    0    0    0    0    0    0    0    0    0    0]\n",
      " [   4 1145    8  151   30 1406    3   40    0    0    0    0    0    0\n",
      "     0    0    0    0    0    0    0    0    0    0    0    0    0    0\n",
      "     0    0    0    0    0    0    0    0    0    0    0    0]\n",
      " [   4   46  151   30 1406   76  151   30 1406    3   40    0    0    0\n",
      "     0    0    0    0    0    0    0    0    0    0    0    0    0    0\n",
      "     0    0    0    0    0    0    0    0    0    0    0    0]\n",
      " [   4   27   78   70    3   40    7 1146  166  179   23  643    0    0\n",
      "     0    0    0    0    0    0    0    0    0    0    0    0    0    0\n",
      "     0    0    0    0    0    0    0    0    0    0    0    0]\n",
      " [   4    8    3  480    7  948   85 1124    0    0    0    0    0    0\n",
      "     0    0    0    0    0    0    0    0    0    0    0    0    0    0\n",
      "     0    0    0    0    0    0    0    0    0    0    0    0]\n",
      " [   4   22    1 1145    3   40    5    1    9  853    5    2   10    1\n",
      "    40    6    2   40    6    9  480    5   13   10    2  480    6   13\n",
      "   480    6    7   13  948   85 2201    0    0    0    0    0]\n",
      " [   4  948   85    3  480   15   11  948   85   31   12   91    0    0\n",
      "     0    0    0    0    0    0    0    0    0    0    0    0    0    0\n",
      "     0    0    0    0    0    0    0    0    0    0    0    0]\n",
      " [   4 1145    3   40   15   11 1145   14   11   12   20   19   18    0\n",
      "     0    0    0    0    0    0    0    0    0    0    0    0    0    0\n",
      "     0    0    0    0    0    0    0    0    0    0    0    0]\n",
      " [   4    1    8    1   78   70    3   40    5    1    9  853    5    2\n",
      "    10    1   40    6    2   40    6    7    2 1407 1408  481    0    0\n",
      "     0    0    0    0    0    0    0    0    0    0    0    0]]\n",
      "vocab_size_input: 3261\n",
      "vocab_size_output: 2405\n"
     ]
    }
   ],
   "source": [
    "from tensorflow.keras.preprocessing.text import Tokenizer\n",
    "from tensorflow.keras.preprocessing.sequence import pad_sequences\n",
    "\n",
    "# Tokenize input sequences (questions)\n",
    "tokenizer_input = Tokenizer()\n",
    "tokenizer_input.fit_on_texts(X_train['question'])\n",
    "X_train_sequences = tokenizer_input.texts_to_sequences(X_train['question'])\n",
    "X_train_padded = pad_sequences(X_train_sequences, padding='post')\n",
    "\n",
    "print(f\"X_train_padded: {X_train_padded[:10]}\")\n",
    "\n",
    "# Tokenize target sequences (SQL queries)\n",
    "tokenizer_output = Tokenizer()\n",
    "tokenizer_output.fit_on_texts(y_train['query'])\n",
    "y_train_sequences = tokenizer_output.texts_to_sequences(y_train['query'])\n",
    "y_train_padded = pad_sequences(y_train_sequences, padding='post',maxlen=X_train_padded.shape[1])\n",
    "\n",
    "print(f\"y_train_padded: {y_train_padded[:10]}\")\n",
    "\n",
    "# Vocabulary sizes\n",
    "vocab_size_input = len(tokenizer_input.word_index) + 1\n",
    "vocab_size_output = len(tokenizer_output.word_index) + 1\n",
    "\n",
    "print(f\"vocab_size_input: {vocab_size_input}\")\n",
    "print(f\"vocab_size_output: {vocab_size_output}\")\n",
    "\n",
    "\n",
    "\n"
   ]
  },
  {
   "cell_type": "code",
   "execution_count": 14,
   "metadata": {},
   "outputs": [],
   "source": [
    "from tensorflow.keras.models import Sequential\n",
    "from tensorflow.keras.layers import Embedding, LSTM, Dense\n",
    "\n",
    "embedding_dim = 128\n",
    "units = 256\n",
    "\n",
    "model = Sequential([\n",
    "    Embedding(input_dim=vocab_size_input, output_dim=embedding_dim, input_length=X_train_padded.shape[1]),\n",
    "    LSTM(units, return_sequences=True),\n",
    "    Dense(units=vocab_size_output, activation='softmax')\n",
    "])\n",
    "\n",
    "model.compile(optimizer='adam', loss='sparse_categorical_crossentropy', metrics=['accuracy'])\n"
   ]
  },
  {
   "cell_type": "code",
   "execution_count": 19,
   "metadata": {},
   "outputs": [
    {
     "name": "stdout",
     "output_type": "stream",
     "text": [
      "Epoch 1/5\n",
      "175/175 [==============================] - 13s 71ms/step - loss: 1.0089 - accuracy: 0.7165 - val_loss: 4.0436 - val_accuracy: 0.5528\n",
      "Epoch 2/5\n",
      "175/175 [==============================] - 12s 71ms/step - loss: 0.9911 - accuracy: 0.7202 - val_loss: 4.0960 - val_accuracy: 0.5551\n",
      "Epoch 3/5\n",
      "175/175 [==============================] - 12s 69ms/step - loss: 0.9827 - accuracy: 0.7223 - val_loss: 4.0503 - val_accuracy: 0.5501\n",
      "Epoch 4/5\n",
      "175/175 [==============================] - 12s 70ms/step - loss: 0.9752 - accuracy: 0.7239 - val_loss: 4.1300 - val_accuracy: 0.5552\n",
      "Epoch 5/5\n",
      "175/175 [==============================] - 12s 69ms/step - loss: 0.9476 - accuracy: 0.7308 - val_loss: 4.1363 - val_accuracy: 0.5511\n"
     ]
    }
   ],
   "source": [
    "history = model.fit(X_train_padded, y_train_padded, epochs=5, batch_size=32, validation_split=0.2)\n"
   ]
  },
  {
   "cell_type": "code",
   "execution_count": 29,
   "metadata": {},
   "outputs": [],
   "source": [
    "import matplotlib.pyplot as plt"
   ]
  },
  {
   "cell_type": "code",
   "execution_count": 33,
   "metadata": {},
   "outputs": [
    {
     "data": {
      "text/plain": [
       "[<matplotlib.lines.Line2D at 0x1782368c0>]"
      ]
     },
     "execution_count": 33,
     "metadata": {},
     "output_type": "execute_result"
    },
    {
     "data": {
      "image/png": "[encoded data removed]",
      "text/plain": [
       "<Figure size 640x480 with 1 Axes>"
      ]
     },
     "metadata": {},
     "output_type": "display_data"
    }
   ],
   "source": [
    "plt.plot(history.history['accuracy'],'r')\n",
    "plt.plot(history.history['val_accuracy'],'g')"
   ]
  },
  {
   "cell_type": "code",
   "execution_count": 40,
   "metadata": {},
   "outputs": [
    {
     "data": {
      "text/plain": [
       "[<matplotlib.lines.Line2D at 0x179ded4b0>]"
      ]
     },
     "execution_count": 40,
     "metadata": {},
     "output_type": "execute_result"
    },
    {
     "data": {
      "image/png": "[encoded data removed]",
      "text/plain": [
       "<Figure size 640x480 with 1 Axes>"
      ]
     },
     "metadata": {},
     "output_type": "display_data"
    }
   ],
   "source": [
    "plt.plot(history.history['loss'],'r-o')\n",
    "plt.plot(history.history['val_loss'],'g')"
   ]
  },
  {
   "cell_type": "code",
   "execution_count": 16,
   "metadata": {},
   "outputs": [
    {
     "name": "stdout",
     "output_type": "stream",
     "text": [
      "1/1 [==============================] - 0s 207ms/step\n",
      "Predicted SQL Query: select count from from from from\n"
     ]
    }
   ],
   "source": [
    "def generate_sql_sequence(question):\n",
    "    question_sequence = tokenizer_input.texts_to_sequences([question])\n",
    "    question_padded = pad_sequences(question_sequence, padding='post', maxlen=X_train_padded.shape[1])\n",
    "    predicted_sequence = model.predict(question_padded)[0]\n",
    "    predicted_sql_query = [tokenizer_output.index_word[idx] for idx in np.argmax(predicted_sequence, axis=-1) if idx != 0]\n",
    "    return \" \".join(predicted_sql_query)\n",
    "\n",
    "# Example usage:\n",
    "new_question = \"department_management  ?\"\n",
    "predicted_sql_query = generate_sql_sequence(new_question)\n",
    "print(\"Predicted SQL Query:\", predicted_sql_query)\n"
   ]
  },
  {
   "cell_type": "code",
   "execution_count": 17,
   "metadata": {},
   "outputs": [
    {
     "name": "stdout",
     "output_type": "stream",
     "text": [
      "question: department_management How many acting statuses are there?\n",
      "1/1 [==============================] - 0s 20ms/step\n",
      "actual query: SELECT count(DISTINCT temporary_acting) FROM management\n",
      "predicted_sql_query: select count from from from from\n",
      "question: department_management How many departments are led by heads who are not mentioned?\n",
      "1/1 [==============================] - 0s 13ms/step\n",
      "actual query: SELECT count(*) FROM department WHERE department_id NOT IN (SELECT department_id FROM management);\n",
      "predicted_sql_query: select count from from from from as\n",
      "question: department_management What are the distinct ages of the heads who are acting?\n",
      "1/1 [==============================] - 0s 13ms/step\n",
      "actual query: SELECT DISTINCT T1.age FROM management AS T2 JOIN head AS T1 ON T1.head_id  =  T2.head_id WHERE T2.temporary_acting  =  'Yes'\n",
      "predicted_sql_query: select count from from from from from\n",
      "question: department_management List the states where both the secretary of 'Treasury' department and the secretary of 'Homeland Security' were born.\n",
      "1/1 [==============================] - 0s 13ms/step\n",
      "actual query: SELECT T3.born_state FROM department AS T1 JOIN management AS T2 ON T1.department_id  =  T2.department_id JOIN head AS T3 ON T2.head_id  =  T3.head_id WHERE T1.name  =  'Treasury' INTERSECT SELECT T3.born_state FROM department AS T1 JOIN management AS T2 ON T1.department_id  =  T2.department_id JOIN head AS T3 ON T2.head_id  =  T3.head_id WHERE T1.name  =  'Homeland Security'\n",
      "predicted_sql_query: select count from from from from t1 as as as as t1 t1 as t2 t2 t2 t2 t2 t2 t2 t2 t2 t2 id id\n",
      "question: department_management Which department has more than 1 head at a time? List the id, name and the number of heads.\n",
      "1/1 [==============================] - 0s 14ms/step\n",
      "actual query: SELECT T1.department_id ,  T1.name ,  count(*) FROM management AS T2 JOIN department AS T1 ON T1.department_id  =  T2.department_id GROUP BY T1.department_id HAVING count(*)  >  1\n",
      "predicted_sql_query: select count from from from from from from as\n",
      "question: department_management Which head's name has the substring 'Ha'? List the id and name.\n",
      "1/1 [==============================] - 0s 13ms/step\n",
      "actual query: SELECT head_id ,  name FROM head WHERE name LIKE '%Ha%'\n",
      "predicted_sql_query: select count from from from from from\n"
     ]
    }
   ],
   "source": [
    "for i in range(10,16):\n",
    "\n",
    "    question = list(X_train.iloc[i,:])[0]\n",
    "    print(f\"question: {question}\")\n",
    "    predicted_sql_query = generate_sql_sequence(question)\n",
    "    actual_query = list(y_train.iloc[i,:])[0]\n",
    "    \n",
    "    print(f\"actual query: {actual_query}\")\n",
    "    print(f\"predicted_sql_query: {predicted_sql_query}\")"
   ]
  },
  {
   "cell_type": "code",
   "execution_count": 18,
   "metadata": {},
   "outputs": [],
   "source": [
    "from tensorflow.keras.models import load_model\n",
    "\n",
    "\n",
    "model = load_model('artifacts/baseline.h5')\n"
   ]
  },
  {
   "cell_type": "code",
   "execution_count": null,
   "metadata": {},
   "outputs": [],
   "source": []
  },
  {
   "cell_type": "code",
   "execution_count": null,
   "metadata": {},
   "outputs": [],
   "source": []
  },
  {
   "cell_type": "code",
   "execution_count": null,
   "metadata": {},
   "outputs": [],
   "source": []
  },
  {
   "cell_type": "code",
   "execution_count": null,
   "metadata": {},
   "outputs": [],
   "source": []
  }
 ],
 "metadata": {
  "kernelspec": {
   "display_name": "venv",
   "language": "python",
   "name": "python3"
  },
  "language_info": {
   "codemirror_mode": {
    "name": "ipython",
    "version": 3
   },
   "file_extension": ".py",
   "mimetype": "text/x-python",
   "name": "python",
   "nbconvert_exporter": "python",
   "pygments_lexer": "ipython3",
   "version": "3.10.9"
  }
 },
 "nbformat": 4,
 "nbformat_minor": 2
}
