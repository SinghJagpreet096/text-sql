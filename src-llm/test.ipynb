{
 "cells": [
  {
   "cell_type": "code",
   "execution_count": 1,
   "metadata": {},
   "outputs": [],
   "source": [
    "# connect to pythhonsqlite.db and create a cursor object\n",
    "import sqlite3\n",
    "from db_seedr import execute_query, create_and_seed_table_v2\n",
    "\n",
    "conn = sqlite3.connect(\"pythonsqlite-v2.db\")"
   ]
  },
  {
   "cell_type": "code",
   "execution_count": 2,
   "metadata": {},
   "outputs": [
    {
     "name": "stdout",
     "output_type": "stream",
     "text": [
      "[(1, 'John Doe', 30), (2, 'John Doe', 20), (3, 'John Doe', 40), (4, 'John Doe', 25), (5, 'John Doe', 45)]\n"
     ]
    }
   ],
   "source": [
    "result = execute_query(conn, query=\"SELECT * FROM patient;\")\n",
    "print(result)"
   ]
  },
  {
   "cell_type": "code",
   "execution_count": null,
   "metadata": {},
   "outputs": [],
   "source": []
  }
 ],
 "metadata": {
  "kernelspec": {
   "display_name": "sql",
   "language": "python",
   "name": "python3"
  },
  "language_info": {
   "codemirror_mode": {
    "name": "ipython",
    "version": 3
   },
   "file_extension": ".py",
   "mimetype": "text/x-python",
   "name": "python",
   "nbconvert_exporter": "python",
   "pygments_lexer": "ipython3",
   "version": "3.10.12"
  }
 },
 "nbformat": 4,
 "nbformat_minor": 2
}
