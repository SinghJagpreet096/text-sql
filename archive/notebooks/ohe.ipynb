{
 "cells": [
  {
   "cell_type": "code",
   "execution_count": 1,
   "metadata": {},
   "outputs": [],
   "source": [
    "import pandas as pd \n",
    "import logging\n",
    "\n",
    "\n",
    "def load_data(file_path:str, selected_columns:list):\n",
    "    logging.info(\"loading data\")\n",
    "    df = pd.read_parquet(file_path)\n",
    "    X_train = df[[\"db_id\",\"question\"]]\n",
    "    y_train = df[[\"query\"]]\n",
    "    logging.info(f\"shape of X_train: {X_train.shape}\")\n",
    "    logging.info(f\"shape of y_train: {y_train.shape}\")\n",
    "    X_train['question'] = X_train[\"db_id\"] +\" \"+ X_train['question']\n",
    "    X_train = X_train.drop('db_id',axis=1)\n",
    "    \n",
    "    return X_train,y_train"
   ]
  },
  {
   "cell_type": "code",
   "execution_count": 8,
   "metadata": {},
   "outputs": [
    {
     "name": "stderr",
     "output_type": "stream",
     "text": [
      "/var/folders/93/mr9vk9s104n71qvsfvrkf4800000gn/T/ipykernel_54025/1862137587.py:12: SettingWithCopyWarning: \n",
      "A value is trying to be set on a copy of a slice from a DataFrame.\n",
      "Try using .loc[row_indexer,col_indexer] = value instead\n",
      "\n",
      "See the caveats in the documentation: https://pandas.pydata.org/pandas-docs/stable/user_guide/indexing.html#returning-a-view-versus-a-copy\n",
      "  X_train['question'] = X_train[\"db_id\"] +\" \"+ X_train['question']\n"
     ]
    }
   ],
   "source": [
    "X_train, y_train = load_data(\"~/ML_Projects/text-sql/data/train/0000.parquet\",selected_columns=[\"db_id\",\"question\",\"query\"])"
   ]
  },
  {
   "cell_type": "code",
   "execution_count": 9,
   "metadata": {},
   "outputs": [
    {
     "data": {
      "text/html": [
       "<div>\n",
       "<style scoped>\n",
       "    .dataframe tbody tr th:only-of-type {\n",
       "        vertical-align: middle;\n",
       "    }\n",
       "\n",
       "    .dataframe tbody tr th {\n",
       "        vertical-align: top;\n",
       "    }\n",
       "\n",
       "    .dataframe thead th {\n",
       "        text-align: right;\n",
       "    }\n",
       "</style>\n",
       "<table border=\"1\" class=\"dataframe\">\n",
       "  <thead>\n",
       "    <tr style=\"text-align: right;\">\n",
       "      <th></th>\n",
       "      <th>question</th>\n",
       "    </tr>\n",
       "  </thead>\n",
       "  <tbody>\n",
       "    <tr>\n",
       "      <th>0</th>\n",
       "      <td>department_management How many heads of the de...</td>\n",
       "    </tr>\n",
       "    <tr>\n",
       "      <th>1</th>\n",
       "      <td>department_management List the name, born stat...</td>\n",
       "    </tr>\n",
       "    <tr>\n",
       "      <th>2</th>\n",
       "      <td>department_management List the creation year, ...</td>\n",
       "    </tr>\n",
       "    <tr>\n",
       "      <th>3</th>\n",
       "      <td>department_management What are the maximum and...</td>\n",
       "    </tr>\n",
       "    <tr>\n",
       "      <th>4</th>\n",
       "      <td>department_management What is the average numb...</td>\n",
       "    </tr>\n",
       "  </tbody>\n",
       "</table>\n",
       "</div>"
      ],
      "text/plain": [
       "                                            question\n",
       "0  department_management How many heads of the de...\n",
       "1  department_management List the name, born stat...\n",
       "2  department_management List the creation year, ...\n",
       "3  department_management What are the maximum and...\n",
       "4  department_management What is the average numb..."
      ]
     },
     "execution_count": 9,
     "metadata": {},
     "output_type": "execute_result"
    }
   ],
   "source": [
    "X_train.head()"
   ]
  },
  {
   "cell_type": "code",
   "execution_count": 12,
   "metadata": {},
   "outputs": [
    {
     "data": {
      "text/html": [
       "<div>\n",
       "<style scoped>\n",
       "    .dataframe tbody tr th:only-of-type {\n",
       "        vertical-align: middle;\n",
       "    }\n",
       "\n",
       "    .dataframe tbody tr th {\n",
       "        vertical-align: top;\n",
       "    }\n",
       "\n",
       "    .dataframe thead th {\n",
       "        text-align: right;\n",
       "    }\n",
       "</style>\n",
       "<table border=\"1\" class=\"dataframe\">\n",
       "  <thead>\n",
       "    <tr style=\"text-align: right;\">\n",
       "      <th></th>\n",
       "      <th>query</th>\n",
       "    </tr>\n",
       "  </thead>\n",
       "  <tbody>\n",
       "    <tr>\n",
       "      <th>0</th>\n",
       "      <td>SELECT count(*) FROM head WHERE age  &gt;  56</td>\n",
       "    </tr>\n",
       "    <tr>\n",
       "      <th>1</th>\n",
       "      <td>SELECT name ,  born_state ,  age FROM head ORD...</td>\n",
       "    </tr>\n",
       "    <tr>\n",
       "      <th>2</th>\n",
       "      <td>SELECT creation ,  name ,  budget_in_billions ...</td>\n",
       "    </tr>\n",
       "    <tr>\n",
       "      <th>3</th>\n",
       "      <td>SELECT max(budget_in_billions) ,  min(budget_i...</td>\n",
       "    </tr>\n",
       "    <tr>\n",
       "      <th>4</th>\n",
       "      <td>SELECT avg(num_employees) FROM department WHER...</td>\n",
       "    </tr>\n",
       "  </tbody>\n",
       "</table>\n",
       "</div>"
      ],
      "text/plain": [
       "                                               query\n",
       "0         SELECT count(*) FROM head WHERE age  >  56\n",
       "1  SELECT name ,  born_state ,  age FROM head ORD...\n",
       "2  SELECT creation ,  name ,  budget_in_billions ...\n",
       "3  SELECT max(budget_in_billions) ,  min(budget_i...\n",
       "4  SELECT avg(num_employees) FROM department WHER..."
      ]
     },
     "execution_count": 12,
     "metadata": {},
     "output_type": "execute_result"
    }
   ],
   "source": [
    "y_train.head(5)"
   ]
  },
  {
   "cell_type": "code",
   "execution_count": 13,
   "metadata": {},
   "outputs": [],
   "source": [
    "from tensorflow.keras.layers import Embedding\n",
    "from tensorflow.keras.preprocessing.sequence import pad_sequences\n",
    "from tensorflow.keras.models import Sequential\n",
    "from tensorflow.keras.preprocessing.text import one_hot\n",
    "from tensorflow.keras.layers import LSTM\n",
    "from tensorflow.keras.layers import Dense"
   ]
  },
  {
   "cell_type": "code",
   "execution_count": 14,
   "metadata": {},
   "outputs": [],
   "source": [
    "vocab_size = 1000"
   ]
  },
  {
   "cell_type": "code",
   "execution_count": 17,
   "metadata": {},
   "outputs": [],
   "source": [
    "from tensorflow.keras.preprocessing.text import Tokenizer\n",
    "from tensorflow.keras.preprocessing.sequence import pad_sequences"
   ]
  },
  {
   "cell_type": "code",
   "execution_count": 99,
   "metadata": {},
   "outputs": [],
   "source": [
    "len_of_question = [len(seq) for seq in X_train['question']]"
   ]
  },
  {
   "cell_type": "code",
   "execution_count": null,
   "metadata": {},
   "outputs": [],
   "source": []
  },
  {
   "cell_type": "code",
   "execution_count": 94,
   "metadata": {},
   "outputs": [
    {
     "name": "stdout",
     "output_type": "stream",
     "text": [
      "232\n"
     ]
    }
   ],
   "source": [
    "max_length_X = max([len(seq) for seq in X_train['question']])\n",
    "print(max_length_X)"
   ]
  },
  {
   "cell_type": "code",
   "execution_count": 95,
   "metadata": {},
   "outputs": [],
   "source": [
    "tokenizer_input = Tokenizer()\n",
    "tokenizer_input.fit_on_texts(X_train['question'])\n",
    "X_train_sequences = tokenizer_input.texts_to_sequences(X_train['question'])\n",
    "X_train_padded = pad_sequences(X_train_sequences, padding='post', maxlen=max_length_X)"
   ]
  },
  {
   "cell_type": "code",
   "execution_count": null,
   "metadata": {},
   "outputs": [],
   "source": []
  },
  {
   "cell_type": "code",
   "execution_count": 96,
   "metadata": {},
   "outputs": [
    {
     "data": {
      "text/plain": [
       "(array([[ 48, 249,  19, ...,   0,   0,   0],\n",
       "        [ 48, 249,  24, ...,   0,   0,   0],\n",
       "        [ 48, 249,  24, ...,   0,   0,   0],\n",
       "        [ 48, 249,   4, ...,   0,   0,   0],\n",
       "        [ 48, 249,   4, ...,   0,   0,   0],\n",
       "        [ 48, 249,   4, ...,   0,   0,   0]], dtype=int32),\n",
       "                                             question\n",
       " 0  department_management How many heads of the de...\n",
       " 1  department_management List the name, born stat...\n",
       " 2  department_management List the creation year, ...\n",
       " 3  department_management What are the maximum and...\n",
       " 4  department_management What is the average numb...\n",
       " 5  department_management What are the names of th...\n",
       " 6  department_management What are the distinct cr...)"
      ]
     },
     "execution_count": 96,
     "metadata": {},
     "output_type": "execute_result"
    }
   ],
   "source": [
    "X_train_padded[:6], X_train.loc[0:6]"
   ]
  },
  {
   "cell_type": "code",
   "execution_count": 77,
   "metadata": {},
   "outputs": [
    {
     "name": "stdout",
     "output_type": "stream",
     "text": [
      "577\n"
     ]
    }
   ],
   "source": [
    "max_length_y = max([len(seq) for _,seq in enumerate(y_train['query'])])\n",
    "print(max_length_y)"
   ]
  },
  {
   "cell_type": "code",
   "execution_count": 78,
   "metadata": {},
   "outputs": [],
   "source": [
    "# Tokenize target sequences (SQL queries)\n",
    "tokenizer_output = Tokenizer()\n",
    "tokenizer_output.fit_on_texts(y_train['query'])\n",
    "y_train_sequences = tokenizer_output.texts_to_sequences(y_train['query'])\n",
    "y_train_padded = pad_sequences(y_train_sequences, padding='post',maxlen=max_length_X)"
   ]
  },
  {
   "cell_type": "code",
   "execution_count": 79,
   "metadata": {},
   "outputs": [
    {
     "data": {
      "text/plain": [
       "(array([[   4,   12,    3,  480,    7,   41, 2200,    0],\n",
       "        [ 948,   85,   41,    3,  480,   14,   11,   41],\n",
       "        [   4, 1145,    8,  151,   30, 1406,    3,   40],\n",
       "        [  30, 1406,   76,  151,   30, 1406,    3,   40],\n",
       "        [   3,   40,    7, 1146,  166,  179,   23,  643],\n",
       "        [   4,    8,    3,  480,    7,  948,   85, 1124]], dtype=int32),\n",
       "                                                query\n",
       " 0         SELECT count(*) FROM head WHERE age  >  56\n",
       " 1  SELECT name ,  born_state ,  age FROM head ORD...\n",
       " 2  SELECT creation ,  name ,  budget_in_billions ...\n",
       " 3  SELECT max(budget_in_billions) ,  min(budget_i...\n",
       " 4  SELECT avg(num_employees) FROM department WHER...\n",
       " 5  SELECT name FROM head WHERE born_state != 'Cal...\n",
       " 6  SELECT DISTINCT T1.creation FROM department AS...)"
      ]
     },
     "execution_count": 79,
     "metadata": {},
     "output_type": "execute_result"
    }
   ],
   "source": [
    "y_train_padded[:6], y_train.loc[:6]"
   ]
  },
  {
   "cell_type": "code",
   "execution_count": 80,
   "metadata": {},
   "outputs": [
    {
     "name": "stdout",
     "output_type": "stream",
     "text": [
      "3261\n",
      "2405\n"
     ]
    }
   ],
   "source": [
    "vocab_size_input = len(tokenizer_input.word_index) + 1\n",
    "print(vocab_size_input)\n",
    "vocab_size_output = len(tokenizer_output.word_index) + 1\n",
    "print(vocab_size_output)"
   ]
  },
  {
   "cell_type": "code",
   "execution_count": 81,
   "metadata": {},
   "outputs": [],
   "source": [
    "from tensorflow.keras.models import Sequential\n",
    "from tensorflow.keras.layers import Embedding, LSTM, Dense\n",
    "\n",
    "embedding_dim = 250\n",
    "units = 256\n",
    "\n",
    "model = Sequential([\n",
    "    Embedding(input_dim=vocab_size_input, output_dim=embedding_dim, input_length=max_length_X),\n",
    "    LSTM(units, return_sequences=True),\n",
    "    Dense(units=vocab_size_output, activation='softmax')\n",
    "])\n",
    "\n",
    "model.compile(optimizer='adam', loss='sparse_categorical_crossentropy', metrics=['accuracy'])\n"
   ]
  },
  {
   "cell_type": "code",
   "execution_count": null,
   "metadata": {},
   "outputs": [],
   "source": []
  },
  {
   "cell_type": "code",
   "execution_count": 82,
   "metadata": {},
   "outputs": [
    {
     "name": "stdout",
     "output_type": "stream",
     "text": [
      "Epoch 1/5\n",
      "175/175 [==============================] - 5s 24ms/step - loss: 5.6804 - accuracy: 0.0818 - val_loss: 5.6672 - val_accuracy: 0.1129\n",
      "Epoch 2/5\n",
      "175/175 [==============================] - 4s 23ms/step - loss: 4.9002 - accuracy: 0.1216 - val_loss: 5.5952 - val_accuracy: 0.1417\n",
      "Epoch 3/5\n",
      "175/175 [==============================] - 4s 23ms/step - loss: 4.6667 - accuracy: 0.1539 - val_loss: 5.5828 - val_accuracy: 0.1644\n",
      "Epoch 4/5\n",
      "175/175 [==============================] - 4s 25ms/step - loss: 4.4843 - accuracy: 0.1949 - val_loss: 5.5571 - val_accuracy: 0.1917\n",
      "Epoch 5/5\n",
      "175/175 [==============================] - 4s 26ms/step - loss: 4.3069 - accuracy: 0.2259 - val_loss: 5.5823 - val_accuracy: 0.2009\n"
     ]
    }
   ],
   "source": [
    "history = model.fit(X_train_padded, y_train_padded, epochs=5, batch_size=32, validation_split=0.2)\n"
   ]
  },
  {
   "cell_type": "code",
   "execution_count": 87,
   "metadata": {},
   "outputs": [],
   "source": [
    "import numpy as np"
   ]
  },
  {
   "cell_type": "code",
   "execution_count": 88,
   "metadata": {},
   "outputs": [
    {
     "name": "stdout",
     "output_type": "stream",
     "text": [
      "question sequnec: [[48, 249, 19, 21, 1655, 796, 6, 63]]\n",
      "question_padded: [[  48  249   19   21 1655  796    6   63]]\n",
      "1/1 [==============================] - 0s 15ms/step\n",
      "predicted_sequence: [[5.1949971e-04 3.8198404e-02 7.0495576e-02 ... 1.0635645e-06\n",
      "  1.0663899e-06 1.1512800e-06]\n",
      " [1.2305073e-04 2.7452616e-02 5.1207867e-02 ... 3.7478998e-07\n",
      "  3.0290491e-07 3.7767256e-07]\n",
      " [7.3684455e-04 3.7868481e-02 3.6765717e-02 ... 2.6146660e-08\n",
      "  1.9799160e-08 2.4678787e-08]\n",
      " ...\n",
      " [3.0317156e-02 3.2257389e-02 4.3448593e-02 ... 4.4313083e-08\n",
      "  3.3861834e-08 5.0213348e-08]\n",
      " [1.6772658e-01 3.8796687e-03 5.2882684e-03 ... 2.5343448e-07\n",
      "  1.9333856e-07 2.4185977e-07]\n",
      " [2.6479200e-01 5.4874388e-04 8.1779796e-04 ... 8.3105863e-07\n",
      "  7.2402213e-07 7.7696461e-07]]\n",
      "Predicted SQL Query: select count from by where count\n"
     ]
    }
   ],
   "source": [
    "def generate_sql_sequence(question):\n",
    "    question_sequence = tokenizer_input.texts_to_sequences([question])\n",
    "    print(f\"question sequnec: {question_sequence}\")\n",
    "    question_padded = pad_sequences(question_sequence, padding='post', maxlen=max_length_X)\n",
    "    print(f\"question_padded: {question_padded}\")\n",
    "    predicted_sequence = model.predict(question_padded)[0]\n",
    "    print(f\"predicted_sequence: {predicted_sequence}\")\n",
    "    \n",
    "    predicted_sql_query = [tokenizer_output.index_word[idx] for idx in np.argmax(predicted_sequence, axis=-1) if idx != 0]\n",
    "    return \" \".join(predicted_sql_query)\n",
    "\n",
    "# Example usage:\n",
    "new_question = \"department_management How many acting statuses are there?\"\n",
    "predicted_sql_query = generate_sql_sequence(new_question)\n",
    "print(\"Predicted SQL Query:\", predicted_sql_query)"
   ]
  },
  {
   "cell_type": "code",
   "execution_count": 85,
   "metadata": {},
   "outputs": [
    {
     "name": "stdout",
     "output_type": "stream",
     "text": [
      "question: department_management How many acting statuses are there?\n",
      "question sequnec: [[48, 249, 19, 21, 1655, 796, 6, 63]]\n",
      "question_padded: [[  48  249   19   21 1655  796    6   63]]\n",
      "1/1 [==============================] - 0s 11ms/step\n",
      "predicted_sequence: [[5.1949971e-04 3.8198404e-02 7.0495576e-02 ... 1.0635645e-06\n",
      "  1.0663899e-06 1.1512800e-06]\n",
      " [1.2305073e-04 2.7452616e-02 5.1207867e-02 ... 3.7478998e-07\n",
      "  3.0290491e-07 3.7767256e-07]\n",
      " [7.3684455e-04 3.7868481e-02 3.6765717e-02 ... 2.6146660e-08\n",
      "  1.9799160e-08 2.4678787e-08]\n",
      " ...\n",
      " [3.0317156e-02 3.2257389e-02 4.3448593e-02 ... 4.4313083e-08\n",
      "  3.3861834e-08 5.0213348e-08]\n",
      " [1.6772658e-01 3.8796687e-03 5.2882684e-03 ... 2.5343448e-07\n",
      "  1.9333856e-07 2.4185977e-07]\n",
      " [2.6479200e-01 5.4874388e-04 8.1779796e-04 ... 8.3105863e-07\n",
      "  7.2402213e-07 7.7696461e-07]]\n",
      "actual query: SELECT count(DISTINCT temporary_acting) FROM management\n",
      "predicted_sql_query: select count from by where count\n",
      "question: department_management How many departments are led by heads who are not mentioned?\n",
      "question sequnec: [[48, 249, 19, 21, 226, 6, 1828, 27, 987, 18, 6, 41, 2583]]\n",
      "question_padded: [[   6 1828   27  987   18    6   41 2583]]\n",
      "1/1 [==============================] - 0s 12ms/step\n",
      "predicted_sequence: [[9.12301068e-04 3.38069610e-02 7.19385892e-02 ... 2.83777609e-07\n",
      "  3.00832568e-07 3.13459054e-07]\n",
      " [1.73595894e-04 2.52388399e-02 5.25863133e-02 ... 5.91309401e-07\n",
      "  5.16652563e-07 6.19245043e-07]\n",
      " [7.00558958e-05 6.57447726e-02 6.82663843e-02 ... 1.99112023e-07\n",
      "  1.69575046e-07 1.77217416e-07]\n",
      " ...\n",
      " [1.08453473e-02 4.52944636e-02 7.07963109e-02 ... 1.05319266e-07\n",
      "  9.54620489e-08 1.21234322e-07]\n",
      " [3.17298435e-02 2.26217639e-02 3.81249860e-02 ... 2.65014279e-07\n",
      "  2.03771791e-07 2.52330580e-07]\n",
      " [1.27686057e-02 1.32042286e-03 1.87477656e-03 ... 1.11778936e-05\n",
      "  9.29108046e-06 9.64330047e-06]]\n",
      "actual query: SELECT count(*) FROM department WHERE department_id NOT IN (SELECT department_id FROM management);\n",
      "predicted_sql_query: select id id where where where from\n",
      "question: department_management What are the distinct ages of the heads who are acting?\n",
      "question sequnec: [[48, 249, 4, 6, 1, 61, 436, 2, 1, 987, 18, 6, 1655]]\n",
      "question_padded: [[  61  436    2    1  987   18    6 1655]]\n",
      "1/1 [==============================] - 0s 10ms/step\n",
      "predicted_sequence: [[7.2699337e-04 2.9144453e-02 6.2815376e-02 ... 3.6584257e-07\n",
      "  3.8033266e-07 4.0070657e-07]\n",
      " [2.5224089e-04 2.0073865e-02 3.8717784e-02 ... 6.8008887e-07\n",
      "  5.7615495e-07 6.8398691e-07]\n",
      " [3.5972285e-04 4.6053242e-02 4.4529531e-02 ... 2.6411507e-07\n",
      "  2.2351394e-07 2.2784995e-07]\n",
      " ...\n",
      " [1.2331998e-02 4.7454346e-02 6.6509269e-02 ... 5.4671563e-08\n",
      "  4.6201777e-08 5.6445177e-08]\n",
      " [1.2911920e-01 1.6435001e-02 2.2680361e-02 ... 8.7449187e-08\n",
      "  6.5333090e-08 8.4193111e-08]\n",
      " [2.5207043e-02 9.4018714e-04 1.3006235e-03 ... 7.6544738e-06\n",
      "  6.5294475e-06 6.7912870e-06]]\n",
      "actual query: SELECT DISTINCT T1.age FROM management AS T2 JOIN head AS T1 ON T1.head_id  =  T2.head_id WHERE T2.temporary_acting  =  'Yes'\n",
      "predicted_sql_query: select count from by by by\n",
      "question: department_management List the states where both the secretary of 'Treasury' department and the secretary of 'Homeland Security' were born.\n",
      "question sequnec: [[48, 249, 24, 1, 272, 223, 83, 1, 841, 2, 2584, 48, 3, 1, 841, 2, 2585, 2586, 145, 1065]]\n",
      "question_padded: [[   3    1  841    2 2585 2586  145 1065]]\n",
      "1/1 [==============================] - 0s 11ms/step\n",
      "predicted_sequence: [[3.48848058e-04 4.37711440e-02 9.82364044e-02 ... 1.14368234e-07\n",
      "  1.14223042e-07 1.23545320e-07]\n",
      " [1.11786307e-04 2.46012807e-02 4.55879495e-02 ... 7.45223531e-07\n",
      "  6.11381040e-07 7.43350313e-07]\n",
      " [1.06106025e-04 6.92983195e-02 6.41865581e-02 ... 2.53848185e-07\n",
      "  2.09247801e-07 2.23594029e-07]\n",
      " ...\n",
      " [1.44868740e-03 3.61735225e-02 4.19512652e-02 ... 1.38235620e-07\n",
      "  1.17762944e-07 1.83397233e-07]\n",
      " [3.28338449e-03 5.16418042e-03 5.62300300e-03 ... 1.65065762e-06\n",
      "  1.35426990e-06 2.13491626e-06]\n",
      " [5.37801906e-03 8.35151703e-04 1.06124021e-03 ... 3.89850902e-06\n",
      "  3.43005308e-06 4.43379668e-06]]\n",
      "actual query: SELECT T3.born_state FROM department AS T1 JOIN management AS T2 ON T1.department_id  =  T2.department_id JOIN head AS T3 ON T2.head_id  =  T3.head_id WHERE T1.name  =  'Treasury' INTERSECT SELECT T3.born_state FROM department AS T1 JOIN management AS T2 ON T1.department_id  =  T2.department_id JOIN head AS T3 ON T2.head_id  =  T3.head_id WHERE T1.name  =  'Homeland Security'\n",
      "predicted_sql_query: select by where where where name name 1\n",
      "question: department_management Which department has more than 1 head at a time? List the id, name and the number of heads.\n",
      "question sequnec: [[48, 249, 26, 48, 36, 39, 22, 5, 1303, 60, 31, 310, 24, 1, 33, 9, 3, 1, 14, 2, 987]]\n",
      "question_padded: [[  1  33   9   3   1  14   2 987]]\n",
      "1/1 [==============================] - 0s 10ms/step\n",
      "predicted_sequence: [[5.96250058e-04 4.31994200e-02 8.13921690e-02 ... 3.36026460e-07\n",
      "  3.38351384e-07 3.64774166e-07]\n",
      " [1.00883713e-04 2.90332977e-02 5.19306362e-02 ... 2.76968507e-07\n",
      "  2.34450269e-07 2.83055442e-07]\n",
      " [7.88559482e-05 5.99242896e-02 5.42359129e-02 ... 1.07523135e-07\n",
      "  9.02158490e-08 1.00059459e-07]\n",
      " ...\n",
      " [6.15788344e-03 9.89395194e-03 1.11042801e-02 ... 2.57672337e-08\n",
      "  1.69349281e-08 3.09122505e-08]\n",
      " [1.74506884e-02 1.23959803e-03 1.34078029e-03 ... 2.83488877e-08\n",
      "  1.78534183e-08 2.90523445e-08]\n",
      " [1.87765490e-02 1.23446385e-04 1.52804758e-04 ... 4.04519653e-08\n",
      "  3.15390132e-08 4.07036538e-08]]\n",
      "actual query: SELECT T1.department_id ,  T1.name ,  count(*) FROM management AS T2 JOIN department AS T1 ON T1.department_id  =  T2.department_id GROUP BY T1.department_id HAVING count(*)  >  1\n",
      "predicted_sql_query: select by order by by desc limit 1\n",
      "question: department_management Which head's name has the substring 'Ha'? List the id and name.\n",
      "question sequnec: [[48, 249, 26, 2587, 9, 36, 1, 539, 2588, 24, 1, 33, 3, 9]]\n",
      "question_padded: [[   1  539 2588   24    1   33    3    9]]\n",
      "1/1 [==============================] - 0s 10ms/step\n",
      "predicted_sequence: [[5.96250058e-04 4.31994200e-02 8.13921690e-02 ... 3.36026460e-07\n",
      "  3.38351384e-07 3.64774166e-07]\n",
      " [1.62066106e-04 1.75043829e-02 2.61494778e-02 ... 7.11343228e-06\n",
      "  6.29044234e-06 6.96599272e-06]\n",
      " [1.44792095e-04 3.15867178e-02 3.58411483e-02 ... 1.80188772e-06\n",
      "  1.64071707e-06 1.68967972e-06]\n",
      " ...\n",
      " [1.68503833e-03 1.65806301e-02 1.54977115e-02 ... 2.89279399e-07\n",
      "  2.16022940e-07 4.01203948e-07]\n",
      " [4.57099825e-03 1.74639781e-03 1.60299672e-03 ... 1.68816314e-06\n",
      "  1.39453755e-06 2.24377641e-06]\n",
      " [6.71538478e-03 1.25920493e-03 1.34081428e-03 ... 7.56248028e-07\n",
      "  6.37493713e-07 9.24547805e-07]]\n",
      "actual query: SELECT head_id ,  name FROM head WHERE name LIKE '%Ha%'\n",
      "predicted_sql_query: select where and and and and 1 1\n"
     ]
    }
   ],
   "source": [
    "for i in range(10,16):\n",
    "\n",
    "    question = list(X_train.iloc[i,:])[0]\n",
    "    print(f\"question: {question}\")\n",
    "    predicted_sql_query = generate_sql_sequence(question)\n",
    "    actual_query = list(y_train.iloc[i,:])[0]\n",
    "    \n",
    "    print(f\"actual query: {actual_query}\")\n",
    "    print(f\"predicted_sql_query: {predicted_sql_query}\")"
   ]
  },
  {
   "cell_type": "code",
   "execution_count": null,
   "metadata": {},
   "outputs": [],
   "source": []
  },
  {
   "cell_type": "code",
   "execution_count": null,
   "metadata": {},
   "outputs": [],
   "source": []
  },
  {
   "cell_type": "code",
   "execution_count": null,
   "metadata": {},
   "outputs": [],
   "source": []
  },
  {
   "cell_type": "code",
   "execution_count": 86,
   "metadata": {},
   "outputs": [
    {
     "data": {
      "text/plain": [
       "<keras.src.layers.core.embedding.Embedding at 0x150e8f070>"
      ]
     },
     "execution_count": 86,
     "metadata": {},
     "output_type": "execute_result"
    }
   ],
   "source": [
    "Embedding(input_dim=vocab_size_input, output_dim=embedding_dim, input_length=X_train_padded.shape[1])"
   ]
  },
  {
   "cell_type": "code",
   "execution_count": null,
   "metadata": {},
   "outputs": [],
   "source": []
  },
  {
   "cell_type": "code",
   "execution_count": null,
   "metadata": {},
   "outputs": [],
   "source": []
  },
  {
   "cell_type": "code",
   "execution_count": null,
   "metadata": {},
   "outputs": [],
   "source": []
  },
  {
   "cell_type": "code",
   "execution_count": null,
   "metadata": {},
   "outputs": [],
   "source": []
  },
  {
   "cell_type": "code",
   "execution_count": null,
   "metadata": {},
   "outputs": [],
   "source": []
  },
  {
   "cell_type": "code",
   "execution_count": null,
   "metadata": {},
   "outputs": [],
   "source": []
  },
  {
   "cell_type": "code",
   "execution_count": null,
   "metadata": {},
   "outputs": [],
   "source": []
  },
  {
   "cell_type": "code",
   "execution_count": null,
   "metadata": {},
   "outputs": [],
   "source": []
  },
  {
   "cell_type": "code",
   "execution_count": null,
   "metadata": {},
   "outputs": [],
   "source": []
  },
  {
   "cell_type": "code",
   "execution_count": null,
   "metadata": {},
   "outputs": [],
   "source": []
  },
  {
   "cell_type": "code",
   "execution_count": 15,
   "metadata": {},
   "outputs": [],
   "source": [
    "# onehot_repr = [one_hot(words,vocab_size) for words in X_train]"
   ]
  },
  {
   "cell_type": "code",
   "execution_count": 16,
   "metadata": {},
   "outputs": [
    {
     "data": {
      "text/plain": [
       "[[854]]"
      ]
     },
     "execution_count": 16,
     "metadata": {},
     "output_type": "execute_result"
    }
   ],
   "source": [
    "# onehot_repr"
   ]
  },
  {
   "cell_type": "code",
   "execution_count": null,
   "metadata": {},
   "outputs": [],
   "source": []
  },
  {
   "cell_type": "code",
   "execution_count": null,
   "metadata": {},
   "outputs": [],
   "source": []
  }
 ],
 "metadata": {
  "kernelspec": {
   "display_name": "venv",
   "language": "python",
   "name": "python3"
  },
  "language_info": {
   "codemirror_mode": {
    "name": "ipython",
    "version": 3
   },
   "file_extension": ".py",
   "mimetype": "text/x-python",
   "name": "python",
   "nbconvert_exporter": "python",
   "pygments_lexer": "ipython3",
   "version": "3.10.9"
  }
 },
 "nbformat": 4,
 "nbformat_minor": 2
}
