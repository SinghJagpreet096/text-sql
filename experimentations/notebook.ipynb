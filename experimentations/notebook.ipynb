{
 "cells": [
  {
   "cell_type": "code",
   "execution_count": 1,
   "metadata": {},
   "outputs": [],
   "source": [
    "import numpy as np \n",
    "import pandas as pd \n",
    "import os\n",
    "import string\n",
    "from string import digits\n",
    "import matplotlib.pyplot as plt\n",
    "import re\n",
    "import seaborn as sns"
   ]
  },
  {
   "cell_type": "code",
   "execution_count": 6,
   "metadata": {},
   "outputs": [],
   "source": [
    "df=pd.read_csv(\"/workspaces/text-sql/experimentations/train.csv\",encoding='utf-8')"
   ]
  },
  {
   "cell_type": "code",
   "execution_count": 7,
   "metadata": {},
   "outputs": [
    {
     "data": {
      "text/html": [
       "<div>\n",
       "<style scoped>\n",
       "    .dataframe tbody tr th:only-of-type {\n",
       "        vertical-align: middle;\n",
       "    }\n",
       "\n",
       "    .dataframe tbody tr th {\n",
       "        vertical-align: top;\n",
       "    }\n",
       "\n",
       "    .dataframe thead th {\n",
       "        text-align: right;\n",
       "    }\n",
       "</style>\n",
       "<table border=\"1\" class=\"dataframe\">\n",
       "  <thead>\n",
       "    <tr style=\"text-align: right;\">\n",
       "      <th></th>\n",
       "      <th>question</th>\n",
       "      <th>sql</th>\n",
       "    </tr>\n",
       "  </thead>\n",
       "  <tbody>\n",
       "    <tr>\n",
       "      <th>0</th>\n",
       "      <td>Tell me what the notes are for South Australia</td>\n",
       "      <td>SELECT Notes FROM table WHERE Current slogan =...</td>\n",
       "    </tr>\n",
       "    <tr>\n",
       "      <th>1</th>\n",
       "      <td>What is the current series where the new serie...</td>\n",
       "      <td>SELECT Current series FROM table WHERE Notes =...</td>\n",
       "    </tr>\n",
       "    <tr>\n",
       "      <th>2</th>\n",
       "      <td>What is the format for South Australia?</td>\n",
       "      <td>SELECT Format FROM table WHERE State/territory...</td>\n",
       "    </tr>\n",
       "    <tr>\n",
       "      <th>3</th>\n",
       "      <td>Name the background colour for the Australian ...</td>\n",
       "      <td>SELECT Text/background colour FROM table WHERE...</td>\n",
       "    </tr>\n",
       "    <tr>\n",
       "      <th>4</th>\n",
       "      <td>how many times is the fuel propulsion is cng?</td>\n",
       "      <td>SELECT COUNT Fleet Series (Quantity) FROM tabl...</td>\n",
       "    </tr>\n",
       "    <tr>\n",
       "      <th>...</th>\n",
       "      <td>...</td>\n",
       "      <td>...</td>\n",
       "    </tr>\n",
       "    <tr>\n",
       "      <th>56350</th>\n",
       "      <td>What time was the match played with a score of...</td>\n",
       "      <td>SELECT Time FROM table WHERE Score = 3-2</td>\n",
       "    </tr>\n",
       "    <tr>\n",
       "      <th>56351</th>\n",
       "      <td>On which ground did the team play Aston Villa?</td>\n",
       "      <td>SELECT Ground FROM table WHERE Opponent = asto...</td>\n",
       "    </tr>\n",
       "    <tr>\n",
       "      <th>56352</th>\n",
       "      <td>What kind of competition was it at San Siro at...</td>\n",
       "      <td>SELECT Competition FROM table WHERE Ground = s...</td>\n",
       "    </tr>\n",
       "    <tr>\n",
       "      <th>56353</th>\n",
       "      <td>What is the total number of decile for the red...</td>\n",
       "      <td>SELECT COUNT Decile FROM table WHERE Name = re...</td>\n",
       "    </tr>\n",
       "    <tr>\n",
       "      <th>56354</th>\n",
       "      <td>Which report includes a Circuit of Tripoli?</td>\n",
       "      <td>SELECT Report FROM table WHERE Circuit = tripoli</td>\n",
       "    </tr>\n",
       "  </tbody>\n",
       "</table>\n",
       "<p>56355 rows × 2 columns</p>\n",
       "</div>"
      ],
      "text/plain": [
       "                                                question  \\\n",
       "0        Tell me what the notes are for South Australia    \n",
       "1      What is the current series where the new serie...   \n",
       "2                What is the format for South Australia?   \n",
       "3      Name the background colour for the Australian ...   \n",
       "4          how many times is the fuel propulsion is cng?   \n",
       "...                                                  ...   \n",
       "56350  What time was the match played with a score of...   \n",
       "56351     On which ground did the team play Aston Villa?   \n",
       "56352  What kind of competition was it at San Siro at...   \n",
       "56353  What is the total number of decile for the red...   \n",
       "56354        Which report includes a Circuit of Tripoli?   \n",
       "\n",
       "                                                     sql  \n",
       "0      SELECT Notes FROM table WHERE Current slogan =...  \n",
       "1      SELECT Current series FROM table WHERE Notes =...  \n",
       "2      SELECT Format FROM table WHERE State/territory...  \n",
       "3      SELECT Text/background colour FROM table WHERE...  \n",
       "4      SELECT COUNT Fleet Series (Quantity) FROM tabl...  \n",
       "...                                                  ...  \n",
       "56350           SELECT Time FROM table WHERE Score = 3-2  \n",
       "56351  SELECT Ground FROM table WHERE Opponent = asto...  \n",
       "56352  SELECT Competition FROM table WHERE Ground = s...  \n",
       "56353  SELECT COUNT Decile FROM table WHERE Name = re...  \n",
       "56354   SELECT Report FROM table WHERE Circuit = tripoli  \n",
       "\n",
       "[56355 rows x 2 columns]"
      ]
     },
     "execution_count": 7,
     "metadata": {},
     "output_type": "execute_result"
    }
   ],
   "source": [
    "df"
   ]
  },
  {
   "cell_type": "markdown",
   "metadata": {},
   "source": [
    "#### Checking null and dropping duplicates"
   ]
  },
  {
   "cell_type": "code",
   "execution_count": 6,
   "metadata": {},
   "outputs": [
    {
     "data": {
      "text/plain": [
       "question    0\n",
       "sql         0\n",
       "dtype: int64"
      ]
     },
     "execution_count": 6,
     "metadata": {},
     "output_type": "execute_result"
    }
   ],
   "source": [
    "lines.isnull().sum()"
   ]
  },
  {
   "cell_type": "code",
   "execution_count": 7,
   "metadata": {},
   "outputs": [],
   "source": [
    "lines.drop_duplicates(inplace=True)"
   ]
  },
  {
   "cell_type": "markdown",
   "metadata": {},
   "source": [
    "#### Converting to lower case"
   ]
  },
  {
   "cell_type": "code",
   "execution_count": 8,
   "metadata": {},
   "outputs": [],
   "source": [
    "lines['question']=lines['question'].apply(lambda x: x.lower())\n",
    "lines['sql']=lines['sql'].apply(lambda x: x.lower())"
   ]
  },
  {
   "cell_type": "markdown",
   "metadata": {},
   "source": [
    "#### Strip Extra Spaces"
   ]
  },
  {
   "cell_type": "code",
   "execution_count": 9,
   "metadata": {},
   "outputs": [],
   "source": [
    "lines['question']=lines['question'].apply(lambda x: x.strip())\n",
    "lines['sql']=lines['sql'].apply(lambda x: x.strip())"
   ]
  },
  {
   "cell_type": "markdown",
   "metadata": {},
   "source": [
    "#### Removing punctuations"
   ]
  },
  {
   "cell_type": "code",
   "execution_count": 10,
   "metadata": {},
   "outputs": [],
   "source": [
    "exclude = set(string.punctuation)\n",
    "lines['question']=lines['question'].apply(lambda x: ''.join(ch for ch in x if ch not in exclude))\n",
    "lines['sql']=lines['sql'].apply(lambda x: ''.join(ch for ch in x if ch not in exclude))"
   ]
  },
  {
   "cell_type": "markdown",
   "metadata": {},
   "source": [
    "#### Removing + signs"
   ]
  },
  {
   "cell_type": "code",
   "execution_count": 11,
   "metadata": {},
   "outputs": [],
   "source": [
    "lines['question']=lines['question'].apply(lambda x: re.sub(\" +\", \" \", x))\n",
    "lines['sql']=lines['sql'].apply(lambda x: re.sub(\" +\", \" \", x))"
   ]
  },
  {
   "cell_type": "markdown",
   "metadata": {},
   "source": [
    "#### Adding start and end to the queries"
   ]
  },
  {
   "cell_type": "code",
   "execution_count": 12,
   "metadata": {},
   "outputs": [],
   "source": [
    "lines['sql'] = lines['sql'].apply(lambda x : 'START_ '+ x + ' _END')"
   ]
  },
  {
   "cell_type": "code",
   "execution_count": 13,
   "metadata": {},
   "outputs": [],
   "source": [
    "all_eng_words=set()\n",
    "for eng in lines['question']:\n",
    "    for word in eng.split():\n",
    "        if word not in all_eng_words:\n",
    "            all_eng_words.add(word)"
   ]
  },
  {
   "cell_type": "code",
   "execution_count": 14,
   "metadata": {},
   "outputs": [],
   "source": [
    "all_sql_words=set()\n",
    "for i in lines['sql']:\n",
    "    for word in i.split():\n",
    "        if word not in all_sql_words:\n",
    "            all_sql_words.add(word)"
   ]
  },
  {
   "cell_type": "code",
   "execution_count": 15,
   "metadata": {},
   "outputs": [],
   "source": [
    "lines['length_question_sentence']=lines['question'].apply(lambda x:len(x.split(\" \")))\n",
    "lines['length_sql_sentence']=lines['sql'].apply(lambda x:len(x.split(\" \")))"
   ]
  },
  {
   "cell_type": "code",
   "execution_count": 16,
   "metadata": {},
   "outputs": [
    {
     "data": {
      "text/html": [
       "<div>\n",
       "<style scoped>\n",
       "    .dataframe tbody tr th:only-of-type {\n",
       "        vertical-align: middle;\n",
       "    }\n",
       "\n",
       "    .dataframe tbody tr th {\n",
       "        vertical-align: top;\n",
       "    }\n",
       "\n",
       "    .dataframe thead th {\n",
       "        text-align: right;\n",
       "    }\n",
       "</style>\n",
       "<table border=\"1\" class=\"dataframe\">\n",
       "  <thead>\n",
       "    <tr style=\"text-align: right;\">\n",
       "      <th></th>\n",
       "      <th>question</th>\n",
       "      <th>sql</th>\n",
       "      <th>length_question_sentence</th>\n",
       "      <th>length_sql_sentence</th>\n",
       "    </tr>\n",
       "  </thead>\n",
       "  <tbody>\n",
       "    <tr>\n",
       "      <th>0</th>\n",
       "      <td>tell me what the notes are for south australia</td>\n",
       "      <td>START_ select notes from table where current s...</td>\n",
       "      <td>9</td>\n",
       "      <td>11</td>\n",
       "    </tr>\n",
       "    <tr>\n",
       "      <th>1</th>\n",
       "      <td>what is the current series where the new serie...</td>\n",
       "      <td>START_ select current series from table where ...</td>\n",
       "      <td>13</td>\n",
       "      <td>15</td>\n",
       "    </tr>\n",
       "    <tr>\n",
       "      <th>2</th>\n",
       "      <td>what is the format for south australia</td>\n",
       "      <td>START_ select format from table where stateter...</td>\n",
       "      <td>7</td>\n",
       "      <td>10</td>\n",
       "    </tr>\n",
       "    <tr>\n",
       "      <th>3</th>\n",
       "      <td>name the background colour for the australian ...</td>\n",
       "      <td>START_ select textbackground colour from table...</td>\n",
       "      <td>9</td>\n",
       "      <td>12</td>\n",
       "    </tr>\n",
       "    <tr>\n",
       "      <th>4</th>\n",
       "      <td>how many times is the fuel propulsion is cng</td>\n",
       "      <td>START_ select count fleet series quantity from...</td>\n",
       "      <td>9</td>\n",
       "      <td>13</td>\n",
       "    </tr>\n",
       "  </tbody>\n",
       "</table>\n",
       "</div>"
      ],
      "text/plain": [
       "                                            question  \\\n",
       "0     tell me what the notes are for south australia   \n",
       "1  what is the current series where the new serie...   \n",
       "2             what is the format for south australia   \n",
       "3  name the background colour for the australian ...   \n",
       "4       how many times is the fuel propulsion is cng   \n",
       "\n",
       "                                                 sql  \\\n",
       "0  START_ select notes from table where current s...   \n",
       "1  START_ select current series from table where ...   \n",
       "2  START_ select format from table where stateter...   \n",
       "3  START_ select textbackground colour from table...   \n",
       "4  START_ select count fleet series quantity from...   \n",
       "\n",
       "   length_question_sentence  length_sql_sentence  \n",
       "0                         9                   11  \n",
       "1                        13                   15  \n",
       "2                         7                   10  \n",
       "3                         9                   12  \n",
       "4                         9                   13  "
      ]
     },
     "execution_count": 16,
     "metadata": {},
     "output_type": "execute_result"
    }
   ],
   "source": [
    "lines.head()"
   ]
  },
  {
   "cell_type": "code",
   "execution_count": 17,
   "metadata": {},
   "outputs": [],
   "source": [
    "max_length_src=max(lines['length_sql_sentence'])\n",
    "max_length_tar=max(lines['length_question_sentence'])"
   ]
  },
  {
   "cell_type": "code",
   "execution_count": 18,
   "metadata": {},
   "outputs": [
    {
     "data": {
      "text/plain": [
       "(37411, 35441)"
      ]
     },
     "execution_count": 18,
     "metadata": {},
     "output_type": "execute_result"
    }
   ],
   "source": [
    "input_words = sorted(list(all_eng_words))\n",
    "target_words = sorted(list(all_sql_words))\n",
    "num_encoder_tokens = len(all_eng_words)\n",
    "num_decoder_tokens = len(all_sql_words)\n",
    "num_encoder_tokens, num_decoder_tokens"
   ]
  },
  {
   "cell_type": "code",
   "execution_count": 19,
   "metadata": {},
   "outputs": [],
   "source": [
    "num_decoder_tokens += 1"
   ]
  },
  {
   "cell_type": "code",
   "execution_count": 20,
   "metadata": {},
   "outputs": [],
   "source": [
    "input_token_index = dict([(word, i+1) for i, word in enumerate(input_words)])\n",
    "target_token_index = dict([(word, i+1) for i, word in enumerate(target_words)])"
   ]
  },
  {
   "cell_type": "code",
   "execution_count": 21,
   "metadata": {},
   "outputs": [],
   "source": [
    "reverse_input_char_index = dict((i, word) for word, i in input_token_index.items())\n",
    "reverse_target_char_index = dict((i, word) for word, i in target_token_index.items())"
   ]
  },
  {
   "cell_type": "code",
   "execution_count": 22,
   "metadata": {},
   "outputs": [
    {
     "data": {
      "text/html": [
       "<div>\n",
       "<style scoped>\n",
       "    .dataframe tbody tr th:only-of-type {\n",
       "        vertical-align: middle;\n",
       "    }\n",
       "\n",
       "    .dataframe tbody tr th {\n",
       "        vertical-align: top;\n",
       "    }\n",
       "\n",
       "    .dataframe thead th {\n",
       "        text-align: right;\n",
       "    }\n",
       "</style>\n",
       "<table border=\"1\" class=\"dataframe\">\n",
       "  <thead>\n",
       "    <tr style=\"text-align: right;\">\n",
       "      <th></th>\n",
       "      <th>question</th>\n",
       "      <th>sql</th>\n",
       "      <th>length_question_sentence</th>\n",
       "      <th>length_sql_sentence</th>\n",
       "    </tr>\n",
       "  </thead>\n",
       "  <tbody>\n",
       "    <tr>\n",
       "      <th>35242</th>\n",
       "      <td>in what round was a player from michigan selected</td>\n",
       "      <td>START_ select max round from table where schoo...</td>\n",
       "      <td>9</td>\n",
       "      <td>11</td>\n",
       "    </tr>\n",
       "    <tr>\n",
       "      <th>20296</th>\n",
       "      <td>which species specific has a link of serversou...</td>\n",
       "      <td>START_ select species specific from table wher...</td>\n",
       "      <td>8</td>\n",
       "      <td>10</td>\n",
       "    </tr>\n",
       "    <tr>\n",
       "      <th>18553</th>\n",
       "      <td>what is the date of the tournament with a scor...</td>\n",
       "      <td>START_ select date from table where score 199 ...</td>\n",
       "      <td>13</td>\n",
       "      <td>10</td>\n",
       "    </tr>\n",
       "    <tr>\n",
       "      <th>34685</th>\n",
       "      <td>what is the amount of fa cups goals that were ...</td>\n",
       "      <td>START_ select fa cup goals from table where to...</td>\n",
       "      <td>31</td>\n",
       "      <td>20</td>\n",
       "    </tr>\n",
       "    <tr>\n",
       "      <th>19105</th>\n",
       "      <td>who was the democratic incumbent in the south ...</td>\n",
       "      <td>START_ select incumbent from table where party...</td>\n",
       "      <td>11</td>\n",
       "      <td>14</td>\n",
       "    </tr>\n",
       "  </tbody>\n",
       "</table>\n",
       "</div>"
      ],
      "text/plain": [
       "                                                question  \\\n",
       "35242  in what round was a player from michigan selected   \n",
       "20296  which species specific has a link of serversou...   \n",
       "18553  what is the date of the tournament with a scor...   \n",
       "34685  what is the amount of fa cups goals that were ...   \n",
       "19105  who was the democratic incumbent in the south ...   \n",
       "\n",
       "                                                     sql  \\\n",
       "35242  START_ select max round from table where schoo...   \n",
       "20296  START_ select species specific from table wher...   \n",
       "18553  START_ select date from table where score 199 ...   \n",
       "34685  START_ select fa cup goals from table where to...   \n",
       "19105  START_ select incumbent from table where party...   \n",
       "\n",
       "       length_question_sentence  length_sql_sentence  \n",
       "35242                         9                   11  \n",
       "20296                         8                   10  \n",
       "18553                        13                   10  \n",
       "34685                        31                   20  \n",
       "19105                        11                   14  "
      ]
     },
     "execution_count": 22,
     "metadata": {},
     "output_type": "execute_result"
    }
   ],
   "source": [
    "lines = lines.sample(frac=1)\n",
    "\n",
    "lines.head()"
   ]
  },
  {
   "cell_type": "code",
   "execution_count": 23,
   "metadata": {},
   "outputs": [
    {
     "name": "stderr",
     "output_type": "stream",
     "text": [
      "2024-01-24 05:17:11.942604: E external/local_xla/xla/stream_executor/cuda/cuda_dnn.cc:9261] Unable to register cuDNN factory: Attempting to register factory for plugin cuDNN when one has already been registered\n",
      "2024-01-24 05:17:11.942710: E external/local_xla/xla/stream_executor/cuda/cuda_fft.cc:607] Unable to register cuFFT factory: Attempting to register factory for plugin cuFFT when one has already been registered\n",
      "2024-01-24 05:17:12.288375: E external/local_xla/xla/stream_executor/cuda/cuda_blas.cc:1515] Unable to register cuBLAS factory: Attempting to register factory for plugin cuBLAS when one has already been registered\n",
      "2024-01-24 05:17:13.033405: I tensorflow/core/platform/cpu_feature_guard.cc:182] This TensorFlow binary is optimized to use available CPU instructions in performance-critical operations.\n",
      "To enable the following instructions: AVX2 FMA, in other operations, rebuild TensorFlow with the appropriate compiler flags.\n",
      "2024-01-24 05:17:17.936166: W tensorflow/compiler/tf2tensorrt/utils/py_utils.cc:38] TF-TRT Warning: Could not find TensorRT\n"
     ]
    }
   ],
   "source": [
    "from tensorflow.keras.models import Model\n",
    "from tensorflow.keras.layers import Input, Embedding, LSTM, Dense\n",
    "from tensorflow.keras.preprocessing.text import Tokenizer\n",
    "from tensorflow.keras.preprocessing.sequence import pad_sequences\n",
    "from sklearn.model_selection import train_test_split"
   ]
  },
  {
   "cell_type": "code",
   "execution_count": 24,
   "metadata": {},
   "outputs": [],
   "source": [
    "df= lines[:10000]"
   ]
  },
  {
   "cell_type": "markdown",
   "metadata": {},
   "source": [
    "#### Tokenizer"
   ]
  },
  {
   "cell_type": "code",
   "execution_count": 25,
   "metadata": {},
   "outputs": [],
   "source": [
    "question_tokenizer = Tokenizer()\n",
    "question_tokenizer.fit_on_texts(df['question'])\n",
    "question_seq = question_tokenizer.texts_to_sequences(df['question'])\n",
    "\n",
    "sql_tokenizer = Tokenizer(filters='')\n",
    "sql_tokenizer.fit_on_texts(df['sql'])\n",
    "sql_seq = sql_tokenizer.texts_to_sequences(df['sql'])"
   ]
  },
  {
   "cell_type": "code",
   "execution_count": 26,
   "metadata": {},
   "outputs": [],
   "source": [
    "# Pad sequences to a fixed length\n",
    "max_question_length = max(len(seq) for seq in question_seq)\n",
    "max_sql_length = max(len(seq) for seq in sql_seq)\n",
    "\n",
    "question_seq_padded = pad_sequences(question_seq, maxlen=max_question_length, padding='post')\n",
    "sql_seq_padded = pad_sequences(sql_seq, maxlen=max_sql_length, padding='post')"
   ]
  },
  {
   "cell_type": "code",
   "execution_count": 27,
   "metadata": {},
   "outputs": [],
   "source": [
    "# Split the data into training and validation sets\n",
    "X_train, X_val, y_train, y_val = train_test_split(question_seq_padded, sql_seq_padded, test_size=0.2, random_state=42)\n",
    "\n",
    "# Define the Seq2Seq model\n",
    "latent_dim = 256"
   ]
  },
  {
   "cell_type": "code",
   "execution_count": 28,
   "metadata": {},
   "outputs": [],
   "source": [
    "# Encoder\n",
    "encoder_inputs = Input(shape=(None,))\n",
    "encoder_embedding = Embedding(input_dim=len(question_tokenizer.word_index) + 1, output_dim=latent_dim)(encoder_inputs)\n",
    "encoder_lstm = LSTM(latent_dim, return_state=True)\n",
    "encoder_outputs, state_h, state_c = encoder_lstm(encoder_embedding)\n",
    "encoder_states = [state_h, state_c]\n"
   ]
  },
  {
   "cell_type": "code",
   "execution_count": 29,
   "metadata": {},
   "outputs": [],
   "source": [
    "\n",
    "# Decoder\n",
    "decoder_inputs = Input(shape=(None,))\n",
    "decoder_embedding = Embedding(input_dim=len(sql_tokenizer.word_index) + 1, output_dim=latent_dim)(decoder_inputs)\n",
    "decoder_lstm = LSTM(latent_dim, return_sequences=True, return_state=True)\n",
    "decoder_outputs, _, _ = decoder_lstm(decoder_embedding, initial_state=encoder_states)\n",
    "decoder_dense = Dense(len(sql_tokenizer.word_index) + 1, activation='softmax')\n",
    "decoder_outputs = decoder_dense(decoder_outputs)"
   ]
  },
  {
   "cell_type": "code",
   "execution_count": 30,
   "metadata": {},
   "outputs": [],
   "source": [
    "model = Model([encoder_inputs, decoder_inputs], decoder_outputs)\n",
    "\n",
    "# Compile the model\n",
    "model.compile(optimizer='adam', loss='sparse_categorical_crossentropy', metrics=['accuracy'])"
   ]
  },
  {
   "cell_type": "code",
   "execution_count": 31,
   "metadata": {},
   "outputs": [
    {
     "name": "stdout",
     "output_type": "stream",
     "text": [
      "Epoch 1/10\n"
     ]
    },
    {
     "name": "stderr",
     "output_type": "stream",
     "text": [
      "2024-01-24 05:20:13.921250: W external/local_tsl/tsl/framework/cpu_allocator_impl.cc:83] Allocation of 76671360 exceeds 10% of free system memory.\n",
      "2024-01-24 05:20:14.054175: W external/local_tsl/tsl/framework/cpu_allocator_impl.cc:83] Allocation of 76671360 exceeds 10% of free system memory.\n",
      "2024-01-24 05:20:14.054278: W external/local_tsl/tsl/framework/cpu_allocator_impl.cc:83] Allocation of 76671360 exceeds 10% of free system memory.\n"
     ]
    },
    {
     "name": "stdout",
     "output_type": "stream",
     "text": [
      "  1/250 [..............................] - ETA: 15:23 - loss: 9.3724 - accuracy: 0.0000e+00"
     ]
    },
    {
     "name": "stderr",
     "output_type": "stream",
     "text": [
      "2024-01-24 05:20:15.139902: W external/local_tsl/tsl/framework/cpu_allocator_impl.cc:83] Allocation of 76671360 exceeds 10% of free system memory.\n",
      "2024-01-24 05:20:15.308804: W external/local_tsl/tsl/framework/cpu_allocator_impl.cc:83] Allocation of 76671360 exceeds 10% of free system memory.\n"
     ]
    },
    {
     "name": "stdout",
     "output_type": "stream",
     "text": [
      "250/250 [==============================] - 269s 1s/step - loss: 1.6186 - accuracy: 0.8313 - val_loss: 0.9798 - val_accuracy: 0.8788\n",
      "Epoch 2/10\n",
      "250/250 [==============================] - 263s 1s/step - loss: 0.9202 - accuracy: 0.8794 - val_loss: 0.8962 - val_accuracy: 0.8833\n",
      "Epoch 3/10\n",
      "250/250 [==============================] - 264s 1s/step - loss: 0.8552 - accuracy: 0.8820 - val_loss: 0.8721 - val_accuracy: 0.8844\n",
      "Epoch 4/10\n",
      "250/250 [==============================] - 261s 1s/step - loss: 0.8185 - accuracy: 0.8842 - val_loss: 0.8632 - val_accuracy: 0.8850\n",
      "Epoch 5/10\n",
      "250/250 [==============================] - 283s 1s/step - loss: 0.7866 - accuracy: 0.8875 - val_loss: 0.8483 - val_accuracy: 0.8892\n",
      "Epoch 6/10\n",
      "250/250 [==============================] - 260s 1s/step - loss: 0.7541 - accuracy: 0.8906 - val_loss: 0.8364 - val_accuracy: 0.8909\n",
      "Epoch 7/10\n",
      "250/250 [==============================] - 265s 1s/step - loss: 0.7226 - accuracy: 0.8926 - val_loss: 0.8298 - val_accuracy: 0.8923\n",
      "Epoch 8/10\n",
      "250/250 [==============================] - 265s 1s/step - loss: 0.6922 - accuracy: 0.8941 - val_loss: 0.8291 - val_accuracy: 0.8932\n",
      "Epoch 9/10\n",
      "250/250 [==============================] - 265s 1s/step - loss: 0.6628 - accuracy: 0.8954 - val_loss: 0.8232 - val_accuracy: 0.8938\n",
      "Epoch 10/10\n",
      "250/250 [==============================] - 264s 1s/step - loss: 0.6345 - accuracy: 0.8968 - val_loss: 0.8248 - val_accuracy: 0.8944\n"
     ]
    },
    {
     "data": {
      "text/plain": [
       "<keras.src.callbacks.History at 0x7f3a38289210>"
      ]
     },
     "execution_count": 31,
     "metadata": {},
     "output_type": "execute_result"
    }
   ],
   "source": [
    "# Train the model\n",
    "model.fit([X_train, y_train[:, :-1]], y_train[:, 1:], epochs=10, batch_size=32, validation_data=([X_val, y_val[:, :-1]], y_val[:, 1:]))"
   ]
  },
  {
   "cell_type": "code",
   "execution_count": 33,
   "metadata": {},
   "outputs": [
    {
     "name": "stdout",
     "output_type": "stream",
     "text": [
      "313/313 [==============================] - 102s 326ms/step - loss: 0.6572 - accuracy: 0.9025\n",
      "Evaluation Loss: 0.6572026610374451\n",
      "Evaluation Accuracy: 0.9024784564971924\n"
     ]
    }
   ],
   "source": [
    "df2= lines[10000:20000]\n",
    "# Tokenize new data\n",
    "question_seq_df2 = question_tokenizer.texts_to_sequences(df2['question'])\n",
    "sql_seq_df2 = sql_tokenizer.texts_to_sequences(df2['sql'])\n",
    "\n",
    "# Pad sequences\n",
    "question_seq_padded_df2 = pad_sequences(question_seq_df2, maxlen=max_question_length, padding='post')\n",
    "sql_seq_padded_df2 = pad_sequences(sql_seq_df2, maxlen=max_sql_length, padding='post')\n",
    "\n",
    "# Evaluate the model on the new dataset\n",
    "eval_result = model.evaluate([question_seq_padded_df2, sql_seq_padded_df2[:, :-1]], sql_seq_padded_df2[:, 1:])\n",
    "print(\"Evaluation Loss:\", eval_result[0])\n",
    "print(\"Evaluation Accuracy:\", eval_result[1])"
   ]
  },
  {
   "cell_type": "code",
   "execution_count": 42,
   "metadata": {},
   "outputs": [],
   "source": [
    "# Separate Encoder Model\n",
    "encoder_model = Model(encoder_inputs, encoder_states)\n",
    "\n",
    "# Separate Decoder Model\n",
    "decoder_state_input_h = Input(shape=(latent_dim,))\n",
    "decoder_state_input_c = Input(shape=(latent_dim,))\n",
    "decoder_states_input = [decoder_state_input_h, decoder_state_input_c]\n",
    "\n",
    "decoder_outputs, state_h, state_c = decoder_lstm(\n",
    "    decoder_embedding, initial_state=decoder_states_input\n",
    ")\n",
    "decoder_states = [state_h, state_c]\n",
    "decoder_outputs = decoder_dense(decoder_outputs)\n",
    "\n",
    "decoder_model = Model(\n",
    "    [decoder_inputs] + decoder_states_input, [decoder_outputs] + decoder_states\n",
    ")"
   ]
  },
  {
   "cell_type": "code",
   "execution_count": 49,
   "metadata": {},
   "outputs": [],
   "source": [
    "def predict_sql(input_text):\n",
    "    # Tokenize the input text\n",
    "    input_seq = question_tokenizer.texts_to_sequences([input_text])\n",
    "    input_seq_padded = pad_sequences(input_seq, maxlen=max_question_length, padding='post')\n",
    "\n",
    "    # Get the initial states from the encoder\n",
    "    states_value = encoder_model.predict(input_seq_padded)\n",
    "\n",
    "    # Initialize target sequence with the 'START_' token\n",
    "    target_seq = np.zeros((1, 1))\n",
    "\n",
    "    # Find the index of 'START_' in the tokenizer word_index\n",
    "    start_index = sql_tokenizer.word_index.get('START_', None)\n",
    "\n",
    "    # If 'START_' is not in word_index, use the first index\n",
    "    if start_index is None:\n",
    "        start_index = 1\n",
    "\n",
    "    target_seq[0, 0] = start_index\n",
    "\n",
    "    stop_condition = False\n",
    "    decoded_sql = ''\n",
    "    while not stop_condition:\n",
    "        output_tokens, h, c = decoder_model.predict([target_seq] + states_value)\n",
    "        sampled_token_index = np.argmax(output_tokens[0, -1, :])\n",
    "        sampled_sql = sql_tokenizer.index_word.get(sampled_token_index, None)\n",
    "\n",
    "        if sampled_sql is None or sampled_sql == '_END' or len(decoded_sql.split()) > max_sql_length:\n",
    "            stop_condition = True\n",
    "        else:\n",
    "            decoded_sql += sampled_sql + ' '\n",
    "\n",
    "        # Update the target sequence for the next iteration\n",
    "        target_seq = np.zeros((1, 1))\n",
    "        target_seq[0, 0] = sampled_token_index\n",
    "\n",
    "        # Update states\n",
    "        states_value = [h, c]\n",
    "\n",
    "    # Remove the '_END' token\n",
    "    decoded_sql = decoded_sql.replace('_end', '').strip()\n",
    "\n",
    "    return decoded_sql"
   ]
  },
  {
   "cell_type": "code",
   "execution_count": 53,
   "metadata": {},
   "outputs": [
    {
     "name": "stdout",
     "output_type": "stream",
     "text": [
      "1/1 [==============================] - 0s 18ms/step\n"
     ]
    },
    {
     "name": "stdout",
     "output_type": "stream",
     "text": [
      "1/1 [==============================] - 0s 17ms/step\n",
      "1/1 [==============================] - 0s 16ms/step\n",
      "1/1 [==============================] - 0s 15ms/step\n",
      "1/1 [==============================] - 0s 14ms/step\n",
      "1/1 [==============================] - 0s 14ms/step\n",
      "1/1 [==============================] - 0s 14ms/step\n",
      "1/1 [==============================] - 0s 14ms/step\n",
      "1/1 [==============================] - 0s 20ms/step\n",
      "1/1 [==============================] - 0s 22ms/step\n",
      "1/1 [==============================] - 0s 19ms/step\n",
      "1/1 [==============================] - 0s 14ms/step\n",
      "1/1 [==============================] - 0s 14ms/step\n",
      "1/1 [==============================] - 0s 14ms/step\n",
      "1/1 [==============================] - 0s 14ms/step\n",
      "Predicted SQL: select count year from table where team 1 racing and player billy\n"
     ]
    }
   ],
   "source": [
    "# Example prediction\n",
    "example_query = \"How many tackles for the player with over 0 fumble recovries and 0 forced fumbles?\"\n",
    "predicted_sql = predict_sql(example_query)\n",
    "print(\"Predicted SQL:\", predicted_sql)"
   ]
  },
  {
   "cell_type": "code",
   "execution_count": null,
   "metadata": {},
   "outputs": [],
   "source": [
    "SELECT COUNT Total FROM table WHERE Fumble rec > 0 AND Fumble force = 0"
   ]
  }
 ],
 "metadata": {
  "kernelspec": {
   "display_name": "Python 3",
   "language": "python",
   "name": "python3"
  },
  "language_info": {
   "codemirror_mode": {
    "name": "ipython",
    "version": 3
   },
   "file_extension": ".py",
   "mimetype": "text/x-python",
   "name": "python",
   "nbconvert_exporter": "python",
   "pygments_lexer": "ipython3",
   "version": "3.10.13"
  }
 },
 "nbformat": 4,
 "nbformat_minor": 2
}
